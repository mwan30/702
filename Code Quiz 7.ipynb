{
 "cells": [
  {
   "cell_type": "code",
   "execution_count": 33,
   "metadata": {},
   "outputs": [],
   "source": [
    "import numpy as np\n",
    "import pandas as pd\n",
    "import math\n",
    "import statsmodels.api as sm"
   ]
  },
  {
   "cell_type": "code",
   "execution_count": 4,
   "metadata": {},
   "outputs": [],
   "source": [
    "W = np.random.normal(0, 1, (1000,))\n",
    "X = W + np.random.normal(0, 1, (1000, )) \n",
    "Z = np.random.normal(1, 0, (1000,))\n",
    "Y = X + Z + W + np.random.normal(0, 1, (1000,))"
   ]
  },
  {
   "cell_type": "code",
   "execution_count": 15,
   "metadata": {},
   "outputs": [
    {
     "data": {
      "text/plain": [
       "np.float64(0.5082241349019035)"
      ]
     },
     "execution_count": 15,
     "metadata": {},
     "output_type": "execute_result"
    }
   ],
   "source": [
    "error = Y - X\n",
    "np.corrcoef(X, error)[0, 1]"
   ]
  },
  {
   "cell_type": "code",
   "execution_count": 16,
   "metadata": {},
   "outputs": [
    {
     "data": {
      "text/plain": [
       "np.float64(0.5082241349019037)"
      ]
     },
     "execution_count": 16,
     "metadata": {},
     "output_type": "execute_result"
    }
   ],
   "source": [
    "error = Y - X - Z\n",
    "np.corrcoef(X, error)[0, 1]"
   ]
  },
  {
   "cell_type": "code",
   "execution_count": 21,
   "metadata": {},
   "outputs": [
    {
     "data": {
      "text/html": [
       "<div>\n",
       "<style scoped>\n",
       "    .dataframe tbody tr th:only-of-type {\n",
       "        vertical-align: middle;\n",
       "    }\n",
       "\n",
       "    .dataframe tbody tr th {\n",
       "        vertical-align: top;\n",
       "    }\n",
       "\n",
       "    .dataframe thead th {\n",
       "        text-align: right;\n",
       "    }\n",
       "</style>\n",
       "<table border=\"1\" class=\"dataframe\">\n",
       "  <thead>\n",
       "    <tr style=\"text-align: right;\">\n",
       "      <th></th>\n",
       "      <th>X</th>\n",
       "      <th>W</th>\n",
       "      <th>Z</th>\n",
       "      <th>Y</th>\n",
       "    </tr>\n",
       "  </thead>\n",
       "  <tbody>\n",
       "    <tr>\n",
       "      <th>0</th>\n",
       "      <td>1.137055</td>\n",
       "      <td>1.221768</td>\n",
       "      <td>0.327829</td>\n",
       "      <td>1.944532</td>\n",
       "    </tr>\n",
       "    <tr>\n",
       "      <th>1</th>\n",
       "      <td>-0.112905</td>\n",
       "      <td>0.465835</td>\n",
       "      <td>0.599650</td>\n",
       "      <td>0.655514</td>\n",
       "    </tr>\n",
       "    <tr>\n",
       "      <th>2</th>\n",
       "      <td>2.077755</td>\n",
       "      <td>1.795414</td>\n",
       "      <td>-0.063393</td>\n",
       "      <td>5.934411</td>\n",
       "    </tr>\n",
       "    <tr>\n",
       "      <th>3</th>\n",
       "      <td>0.456373</td>\n",
       "      <td>-0.512159</td>\n",
       "      <td>1.177413</td>\n",
       "      <td>-0.188064</td>\n",
       "    </tr>\n",
       "    <tr>\n",
       "      <th>4</th>\n",
       "      <td>-1.012402</td>\n",
       "      <td>0.080002</td>\n",
       "      <td>-0.275697</td>\n",
       "      <td>-0.533775</td>\n",
       "    </tr>\n",
       "    <tr>\n",
       "      <th>...</th>\n",
       "      <td>...</td>\n",
       "      <td>...</td>\n",
       "      <td>...</td>\n",
       "      <td>...</td>\n",
       "    </tr>\n",
       "    <tr>\n",
       "      <th>9995</th>\n",
       "      <td>2.569934</td>\n",
       "      <td>1.233620</td>\n",
       "      <td>0.930467</td>\n",
       "      <td>6.188783</td>\n",
       "    </tr>\n",
       "    <tr>\n",
       "      <th>9996</th>\n",
       "      <td>0.190150</td>\n",
       "      <td>1.022164</td>\n",
       "      <td>-0.015151</td>\n",
       "      <td>0.697187</td>\n",
       "    </tr>\n",
       "    <tr>\n",
       "      <th>9997</th>\n",
       "      <td>-1.184465</td>\n",
       "      <td>-1.475929</td>\n",
       "      <td>-0.287056</td>\n",
       "      <td>-1.575303</td>\n",
       "    </tr>\n",
       "    <tr>\n",
       "      <th>9998</th>\n",
       "      <td>-0.121286</td>\n",
       "      <td>-0.914357</td>\n",
       "      <td>1.706237</td>\n",
       "      <td>-1.809819</td>\n",
       "    </tr>\n",
       "    <tr>\n",
       "      <th>9999</th>\n",
       "      <td>2.830207</td>\n",
       "      <td>0.825999</td>\n",
       "      <td>-1.154576</td>\n",
       "      <td>5.173403</td>\n",
       "    </tr>\n",
       "  </tbody>\n",
       "</table>\n",
       "<p>10000 rows × 4 columns</p>\n",
       "</div>"
      ],
      "text/plain": [
       "             X         W         Z         Y\n",
       "0     1.137055  1.221768  0.327829  1.944532\n",
       "1    -0.112905  0.465835  0.599650  0.655514\n",
       "2     2.077755  1.795414 -0.063393  5.934411\n",
       "3     0.456373 -0.512159  1.177413 -0.188064\n",
       "4    -1.012402  0.080002 -0.275697 -0.533775\n",
       "...        ...       ...       ...       ...\n",
       "9995  2.569934  1.233620  0.930467  6.188783\n",
       "9996  0.190150  1.022164 -0.015151  0.697187\n",
       "9997 -1.184465 -1.475929 -0.287056 -1.575303\n",
       "9998 -0.121286 -0.914357  1.706237 -1.809819\n",
       "9999  2.830207  0.825999 -1.154576  5.173403\n",
       "\n",
       "[10000 rows x 4 columns]"
      ]
     },
     "execution_count": 21,
     "metadata": {},
     "output_type": "execute_result"
    }
   ],
   "source": [
    "hw7 = pd.read_csv('homework_7.1.csv', index_col=0)\n",
    "hw7"
   ]
  },
  {
   "cell_type": "code",
   "execution_count": 36,
   "metadata": {},
   "outputs": [
    {
     "data": {
      "text/plain": [
       "(<class 'statsmodels.iolib.summary.Summary'>\n",
       " \"\"\"\n",
       "                             OLS Regression Results                            \n",
       " ==============================================================================\n",
       " Dep. Variable:                      Y   R-squared:                       0.510\n",
       " Model:                            OLS   Adj. R-squared:                  0.508\n",
       " Method:                 Least Squares   F-statistic:                     251.9\n",
       " Date:                Sun, 06 Jul 2025   Prob (F-statistic):           9.34e-76\n",
       " Time:                        14:27:58   Log-Likelihood:                -691.57\n",
       " No. Observations:                 488   AIC:                             1389.\n",
       " Df Residuals:                     485   BIC:                             1402.\n",
       " Df Model:                           2                                         \n",
       " Covariance Type:            nonrobust                                         \n",
       " ==============================================================================\n",
       "                  coef    std err          t      P>|t|      [0.025      0.975]\n",
       " ------------------------------------------------------------------------------\n",
       " const         -1.2175      0.066    -18.327      0.000      -1.348      -1.087\n",
       " X              0.8580      0.046     18.760      0.000       0.768       0.948\n",
       " Z             -0.5875      0.046    -12.782      0.000      -0.678      -0.497\n",
       " ==============================================================================\n",
       " Omnibus:                        1.277   Durbin-Watson:                   2.026\n",
       " Prob(Omnibus):                  0.528   Jarque-Bera (JB):                1.110\n",
       " Skew:                          -0.013   Prob(JB):                        0.574\n",
       " Kurtosis:                       3.232   Cond. No.                         2.78\n",
       " ==============================================================================\n",
       " \n",
       " Notes:\n",
       " [1] Standard Errors assume that the covariance matrix of the errors is correctly specified.\n",
       " \"\"\",\n",
       " <class 'statsmodels.iolib.summary.Summary'>\n",
       " \"\"\"\n",
       "                             OLS Regression Results                            \n",
       " ==============================================================================\n",
       " Dep. Variable:                      Y   R-squared:                       0.697\n",
       " Model:                            OLS   Adj. R-squared:                  0.696\n",
       " Method:                 Least Squares   F-statistic:                     894.5\n",
       " Date:                Sun, 06 Jul 2025   Prob (F-statistic):          2.68e-202\n",
       " Time:                        14:27:58   Log-Likelihood:                -1105.8\n",
       " No. Observations:                 780   AIC:                             2218.\n",
       " Df Residuals:                     777   BIC:                             2232.\n",
       " Df Model:                           2                                         \n",
       " Covariance Type:            nonrobust                                         \n",
       " ==============================================================================\n",
       "                  coef    std err          t      P>|t|      [0.025      0.975]\n",
       " ------------------------------------------------------------------------------\n",
       " const          0.0019      0.036      0.052      0.959      -0.069       0.072\n",
       " X              1.3832      0.035     39.458      0.000       1.314       1.452\n",
       " Z             -0.5651      0.036    -15.653      0.000      -0.636      -0.494\n",
       " ==============================================================================\n",
       " Omnibus:                        0.415   Durbin-Watson:                   1.962\n",
       " Prob(Omnibus):                  0.813   Jarque-Bera (JB):                0.487\n",
       " Skew:                           0.049   Prob(JB):                        0.784\n",
       " Kurtosis:                       2.927   Cond. No.                         1.08\n",
       " ==============================================================================\n",
       " \n",
       " Notes:\n",
       " [1] Standard Errors assume that the covariance matrix of the errors is correctly specified.\n",
       " \"\"\",\n",
       " <class 'statsmodels.iolib.summary.Summary'>\n",
       " \"\"\"\n",
       "                             OLS Regression Results                            \n",
       " ==============================================================================\n",
       " Dep. Variable:                      Y   R-squared:                       0.818\n",
       " Model:                            OLS   Adj. R-squared:                  0.817\n",
       " Method:                 Least Squares   F-statistic:                     1015.\n",
       " Date:                Sun, 06 Jul 2025   Prob (F-statistic):          7.24e-168\n",
       " Time:                        14:27:58   Log-Likelihood:                -635.61\n",
       " No. Observations:                 455   AIC:                             1277.\n",
       " Df Residuals:                     452   BIC:                             1290.\n",
       " Df Model:                           2                                         \n",
       " Covariance Type:            nonrobust                                         \n",
       " ==============================================================================\n",
       "                  coef    std err          t      P>|t|      [0.025      0.975]\n",
       " ------------------------------------------------------------------------------\n",
       " const          1.0883      0.063     17.315      0.000       0.965       1.212\n",
       " X              1.9581      0.045     43.761      0.000       1.870       2.046\n",
       " Z             -0.5682      0.045    -12.649      0.000      -0.656      -0.480\n",
       " ==============================================================================\n",
       " Omnibus:                        1.807   Durbin-Watson:                   1.960\n",
       " Prob(Omnibus):                  0.405   Jarque-Bera (JB):                1.852\n",
       " Skew:                           0.115   Prob(JB):                        0.396\n",
       " Kurtosis:                       2.789   Cond. No.                         2.49\n",
       " ==============================================================================\n",
       " \n",
       " Notes:\n",
       " [1] Standard Errors assume that the covariance matrix of the errors is correctly specified.\n",
       " \"\"\")"
      ]
     },
     "execution_count": 36,
     "metadata": {},
     "output_type": "execute_result"
    }
   ],
   "source": [
    "def regress_subset(df, center, tol=0.1):\n",
    "    subset = df[(df['W'] >= center - tol) & (df['W'] <= center + tol)]\n",
    "    X_vars = subset[['X', 'Z']]\n",
    "    X_vars = sm.add_constant(X_vars)\n",
    "    model = sm.OLS(subset['Y'], X_vars).fit()\n",
    "    return model.summary()\n",
    "\n",
    "summary_W_neg1 = regress_subset(hw7, -1)\n",
    "summary_W_0 = regress_subset(hw7, 0)\n",
    "summary_W_1 = regress_subset(hw7, 1)\n",
    "summary_W_neg1, summary_W_0, summary_W_1"
   ]
  },
  {
   "cell_type": "code",
   "execution_count": 37,
   "metadata": {},
   "outputs": [],
   "source": [
    "def make_error(corr_const, num):\n",
    "    err = list()\n",
    "    prev = np.random.normal(0, 1)\n",
    "    for n in range(num):\n",
    "        prev = corr_const * prev + (1 - corr_const) * np.random.normal(0, 1)\n",
    "        err.append(prev)\n",
    "    return np.array(err)"
   ]
  },
  {
   "cell_type": "code",
   "execution_count": 40,
   "metadata": {},
   "outputs": [
    {
     "data": {
      "text/plain": [
       "{0.2: {'coef_std_dev': np.float64(0.0476375534506768),\n",
       "  'stderr_mean': np.float64(0.04474042144910821)},\n",
       " 0.5: {'coef_std_dev': np.float64(0.05824787363560534),\n",
       "  'stderr_mean': np.float64(0.04477015754694382)},\n",
       " 0.8: {'coef_std_dev': np.float64(0.09779160954781542),\n",
       "  'stderr_mean': np.float64(0.044608487024232764)}}"
      ]
     },
     "execution_count": 40,
     "metadata": {},
     "output_type": "execute_result"
    }
   ],
   "source": [
    "n = 500\n",
    "trials = 1000\n",
    "corr_consts = [0.2, 0.5, 0.8]\n",
    "\n",
    "results = {}\n",
    "\n",
    "for rho in corr_consts:\n",
    "    coefs = []\n",
    "    std_errs = []\n",
    "\n",
    "    for _ in range(trials):\n",
    "        err_x = make_error(rho, n)\n",
    "        err_y = make_error(rho, n)\n",
    "\n",
    "        X = err_x\n",
    "        Y = X + err_y\n",
    "        X_design = sm.add_constant(X)\n",
    "        model = sm.OLS(Y, X_design).fit()\n",
    "        coefs.append(model.params[1])\n",
    "        std_errs.append(model.bse[1])\n",
    "\n",
    "    results[rho] = {\n",
    "        'coef_std_dev': np.std(coefs),\n",
    "        'stderr_mean': np.mean(std_errs)\n",
    "    }\n",
    "\n",
    "results"
   ]
  },
  {
   "cell_type": "code",
   "execution_count": 41,
   "metadata": {},
   "outputs": [
    {
     "data": {
      "text/plain": [
       "1.0648769574944073"
      ]
     },
     "execution_count": 41,
     "metadata": {},
     "output_type": "execute_result"
    }
   ],
   "source": [
    "0.0476/0.0447"
   ]
  },
  {
   "cell_type": "code",
   "execution_count": 42,
   "metadata": {},
   "outputs": [
    {
     "data": {
      "text/plain": [
       "1.302013422818792"
      ]
     },
     "execution_count": 42,
     "metadata": {},
     "output_type": "execute_result"
    }
   ],
   "source": [
    "0.0582/0.0447"
   ]
  },
  {
   "cell_type": "code",
   "execution_count": 43,
   "metadata": {},
   "outputs": [
    {
     "data": {
      "text/plain": [
       "2.1879194630872485"
      ]
     },
     "execution_count": 43,
     "metadata": {},
     "output_type": "execute_result"
    }
   ],
   "source": [
    "0.0978/0.0447"
   ]
  },
  {
   "cell_type": "code",
   "execution_count": 48,
   "metadata": {},
   "outputs": [
    {
     "data": {
      "text/plain": [
       "np.float64(2.4472608147714756)"
      ]
     },
     "execution_count": 48,
     "metadata": {},
     "output_type": "execute_result"
    }
   ],
   "source": [
    "from scipy.spatial import distance\n",
    "\n",
    "point1 = np.array([2, 1])\n",
    "point2 = np.array([0, 0])\n",
    "\n",
    "distance.minkowski(point1, point2, p=1.5)"
   ]
  },
  {
   "cell_type": "code",
   "execution_count": 53,
   "metadata": {},
   "outputs": [
    {
     "data": {
      "text/plain": [
       "array([[1.]])"
      ]
     },
     "execution_count": 53,
     "metadata": {},
     "output_type": "execute_result"
    }
   ],
   "source": [
    "from sklearn.metrics.pairwise import cosine_similarity\n",
    "\n",
    "X = [[1, 2, 3]]\n",
    "Y = [[2, 4, 6]]\n",
    "cosine_similarity(X, Y)"
   ]
  }
 ],
 "metadata": {
  "kernelspec": {
   "display_name": "Python 3",
   "language": "python",
   "name": "python3"
  },
  "language_info": {
   "codemirror_mode": {
    "name": "ipython",
    "version": 3
   },
   "file_extension": ".py",
   "mimetype": "text/x-python",
   "name": "python",
   "nbconvert_exporter": "python",
   "pygments_lexer": "ipython3",
   "version": "3.13.2"
  }
 },
 "nbformat": 4,
 "nbformat_minor": 2
}
