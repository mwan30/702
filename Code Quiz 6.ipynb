{
 "cells": [
  {
   "cell_type": "code",
   "execution_count": 7,
   "id": "d42918b2",
   "metadata": {},
   "outputs": [],
   "source": [
    "import numpy as np\n",
    "import pandas as pd\n",
    "from sklearn.neighbors import NearestNeighbors"
   ]
  },
  {
   "cell_type": "code",
   "execution_count": 3,
   "id": "b0ab9f24",
   "metadata": {},
   "outputs": [
    {
     "data": {
      "text/html": [
       "<div>\n",
       "<style scoped>\n",
       "    .dataframe tbody tr th:only-of-type {\n",
       "        vertical-align: middle;\n",
       "    }\n",
       "\n",
       "    .dataframe tbody tr th {\n",
       "        vertical-align: top;\n",
       "    }\n",
       "\n",
       "    .dataframe thead th {\n",
       "        text-align: right;\n",
       "    }\n",
       "</style>\n",
       "<table border=\"1\" class=\"dataframe\">\n",
       "  <thead>\n",
       "    <tr style=\"text-align: right;\">\n",
       "      <th></th>\n",
       "      <th>Z</th>\n",
       "      <th>X</th>\n",
       "      <th>Y</th>\n",
       "    </tr>\n",
       "  </thead>\n",
       "  <tbody>\n",
       "    <tr>\n",
       "      <th>0</th>\n",
       "      <td>0.548814</td>\n",
       "      <td>0</td>\n",
       "      <td>-0.823220</td>\n",
       "    </tr>\n",
       "    <tr>\n",
       "      <th>1</th>\n",
       "      <td>0.715189</td>\n",
       "      <td>1</td>\n",
       "      <td>0.842405</td>\n",
       "    </tr>\n",
       "    <tr>\n",
       "      <th>2</th>\n",
       "      <td>0.602763</td>\n",
       "      <td>1</td>\n",
       "      <td>0.898618</td>\n",
       "    </tr>\n",
       "    <tr>\n",
       "      <th>3</th>\n",
       "      <td>0.544883</td>\n",
       "      <td>0</td>\n",
       "      <td>-0.817325</td>\n",
       "    </tr>\n",
       "    <tr>\n",
       "      <th>4</th>\n",
       "      <td>0.423655</td>\n",
       "      <td>0</td>\n",
       "      <td>-0.635482</td>\n",
       "    </tr>\n",
       "    <tr>\n",
       "      <th>...</th>\n",
       "      <td>...</td>\n",
       "      <td>...</td>\n",
       "      <td>...</td>\n",
       "    </tr>\n",
       "    <tr>\n",
       "      <th>995</th>\n",
       "      <td>0.097676</td>\n",
       "      <td>0</td>\n",
       "      <td>-0.146515</td>\n",
       "    </tr>\n",
       "    <tr>\n",
       "      <th>996</th>\n",
       "      <td>0.514922</td>\n",
       "      <td>0</td>\n",
       "      <td>-0.772383</td>\n",
       "    </tr>\n",
       "    <tr>\n",
       "      <th>997</th>\n",
       "      <td>0.938412</td>\n",
       "      <td>1</td>\n",
       "      <td>0.730794</td>\n",
       "    </tr>\n",
       "    <tr>\n",
       "      <th>998</th>\n",
       "      <td>0.228647</td>\n",
       "      <td>0</td>\n",
       "      <td>-0.342970</td>\n",
       "    </tr>\n",
       "    <tr>\n",
       "      <th>999</th>\n",
       "      <td>0.677141</td>\n",
       "      <td>1</td>\n",
       "      <td>0.861429</td>\n",
       "    </tr>\n",
       "  </tbody>\n",
       "</table>\n",
       "<p>1000 rows × 3 columns</p>\n",
       "</div>"
      ],
      "text/plain": [
       "            Z  X         Y\n",
       "0    0.548814  0 -0.823220\n",
       "1    0.715189  1  0.842405\n",
       "2    0.602763  1  0.898618\n",
       "3    0.544883  0 -0.817325\n",
       "4    0.423655  0 -0.635482\n",
       "..        ... ..       ...\n",
       "995  0.097676  0 -0.146515\n",
       "996  0.514922  0 -0.772383\n",
       "997  0.938412  1  0.730794\n",
       "998  0.228647  0 -0.342970\n",
       "999  0.677141  1  0.861429\n",
       "\n",
       "[1000 rows x 3 columns]"
      ]
     },
     "execution_count": 3,
     "metadata": {},
     "output_type": "execute_result"
    }
   ],
   "source": [
    "hw61 = pd.read_csv('homework_6.1.csv', index_col=0)\n",
    "hw61"
   ]
  },
  {
   "cell_type": "code",
   "execution_count": 45,
   "id": "84369af0",
   "metadata": {},
   "outputs": [
    {
     "data": {
      "text/plain": [
       "(            Z  X         Y\n",
       " 0    0.548814  0 -0.823220\n",
       " 3    0.544883  0 -0.817325\n",
       " 4    0.423655  0 -0.635482\n",
       " 5    0.645894  0 -0.968841\n",
       " 6    0.437587  0 -0.656381\n",
       " ..        ... ..       ...\n",
       " 992  0.229567  0 -0.344351\n",
       " 993  0.506863  0 -0.760294\n",
       " 995  0.097676  0 -0.146515\n",
       " 996  0.514922  0 -0.772383\n",
       " 998  0.228647  0 -0.342970\n",
       " \n",
       " [509 rows x 3 columns],\n",
       "             Z  X         Y\n",
       " 1    0.715189  1  0.842405\n",
       " 2    0.602763  1  0.898618\n",
       " 7    0.891773  1  0.754113\n",
       " 8    0.963663  1  0.718169\n",
       " 9    0.383442  1  1.008279\n",
       " ..        ... ..       ...\n",
       " 987  0.833982  1  0.783009\n",
       " 991  0.322830  1  1.038585\n",
       " 994  0.736853  1  0.831573\n",
       " 997  0.938412  1  0.730794\n",
       " 999  0.677141  1  0.861429\n",
       " \n",
       " [491 rows x 3 columns])"
      ]
     },
     "execution_count": 45,
     "metadata": {},
     "output_type": "execute_result"
    }
   ],
   "source": [
    "untreat = hw61[hw61['X'] == 0]\n",
    "treat = hw61[hw61['X'] == 1]\n",
    "untreat, treat"
   ]
  },
  {
   "cell_type": "code",
   "execution_count": 48,
   "id": "b8888c4a",
   "metadata": {},
   "outputs": [
    {
     "data": {
      "text/plain": [
       "(            Z  X         Y        Y*\n",
       " 1    0.715189  1  0.842405 -1.074491\n",
       " 2    0.602763  1  0.898618 -0.906177\n",
       " 7    0.891773  1  0.754113 -1.334690\n",
       " 8    0.963663  1  0.718169 -1.434125\n",
       " 9    0.383442  1  1.008279 -0.575196\n",
       " ..        ... ..       ...       ...\n",
       " 987  0.833982  1  0.783009 -1.256917\n",
       " 991  0.322830  1  1.038585 -0.483500\n",
       " 994  0.736853  1  0.831573 -1.103841\n",
       " 997  0.938412  1  0.730794 -1.398591\n",
       " 999  0.677141  1  0.861429 -1.008072\n",
       " \n",
       " [491 rows x 4 columns],\n",
       "             Z  X         Y        Y*\n",
       " 0    0.548814  0 -0.823220  0.925250\n",
       " 3    0.544883  0 -0.817325  0.928097\n",
       " 4    0.423655  0 -0.635482  0.988072\n",
       " 5    0.645894  0 -0.968841  0.877215\n",
       " 6    0.437587  0 -0.656381  0.979868\n",
       " ..        ... ..       ...       ...\n",
       " 992  0.229567  0 -0.344351  1.084149\n",
       " 993  0.506863  0 -0.760294  0.946844\n",
       " 995  0.097676  0 -0.146515  1.151379\n",
       " 996  0.514922  0 -0.772383  0.942181\n",
       " 998  0.228647  0 -0.342970  1.086319\n",
       " \n",
       " [509 rows x 4 columns])"
      ]
     },
     "execution_count": 48,
     "metadata": {},
     "output_type": "execute_result"
    }
   ],
   "source": [
    "# Finding counterfactuals with Nearest Neighbors\n",
    "\n",
    "neigh = NearestNeighbors(n_neighbors=1).fit(untreat[['Z']])\n",
    "distances, indices = neigh.kneighbors(treat[['Z']])\n",
    "treat1 = treat.copy()\n",
    "treat1['Y*'] = untreat.iloc[indices.ravel()]['Y'].values\n",
    "\n",
    "neigh = NearestNeighbors(n_neighbors=1).fit(treat[['Z']])\n",
    "distances, indices = neigh.kneighbors(untreat[['Z']])\n",
    "untreat1 = untreat.copy()\n",
    "untreat1['Y*'] = treat.iloc[indices.flatten()]['Y'].values\n",
    "treat1, untreat1"
   ]
  },
  {
   "cell_type": "code",
   "execution_count": null,
   "id": "6ed51f4d",
   "metadata": {},
   "outputs": [],
   "source": []
  }
 ],
 "metadata": {
  "kernelspec": {
   "display_name": "Python 3",
   "language": "python",
   "name": "python3"
  },
  "language_info": {
   "codemirror_mode": {
    "name": "ipython",
    "version": 3
   },
   "file_extension": ".py",
   "mimetype": "text/x-python",
   "name": "python",
   "nbconvert_exporter": "python",
   "pygments_lexer": "ipython3",
   "version": "3.11.9"
  }
 },
 "nbformat": 4,
 "nbformat_minor": 5
}
