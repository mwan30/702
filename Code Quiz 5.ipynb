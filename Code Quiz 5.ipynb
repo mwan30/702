{
 "cells": [
  {
   "cell_type": "code",
   "execution_count": 29,
   "id": "cbf6b0c5",
   "metadata": {},
   "outputs": [],
   "source": [
    "import numpy as np\n",
    "import pandas as pd\n",
    "import statsmodels.api as sm\n",
    "import random"
   ]
  },
  {
   "cell_type": "code",
   "execution_count": 75,
   "id": "2001a496",
   "metadata": {},
   "outputs": [
    {
     "data": {
      "text/html": [
       "<div>\n",
       "<style scoped>\n",
       "    .dataframe tbody tr th:only-of-type {\n",
       "        vertical-align: middle;\n",
       "    }\n",
       "\n",
       "    .dataframe tbody tr th {\n",
       "        vertical-align: top;\n",
       "    }\n",
       "\n",
       "    .dataframe thead th {\n",
       "        text-align: right;\n",
       "    }\n",
       "</style>\n",
       "<table border=\"1\" class=\"dataframe\">\n",
       "  <thead>\n",
       "    <tr style=\"text-align: right;\">\n",
       "      <th></th>\n",
       "      <th>difficulty</th>\n",
       "      <th>speed</th>\n",
       "      <th>accident</th>\n",
       "    </tr>\n",
       "  </thead>\n",
       "  <tbody>\n",
       "    <tr>\n",
       "      <th>0</th>\n",
       "      <td>0.673138</td>\n",
       "      <td>8.551017</td>\n",
       "      <td>0.720598</td>\n",
       "    </tr>\n",
       "    <tr>\n",
       "      <th>1</th>\n",
       "      <td>0.655696</td>\n",
       "      <td>0.000000</td>\n",
       "      <td>0.185299</td>\n",
       "    </tr>\n",
       "    <tr>\n",
       "      <th>2</th>\n",
       "      <td>0.770951</td>\n",
       "      <td>4.647342</td>\n",
       "      <td>0.633775</td>\n",
       "    </tr>\n",
       "    <tr>\n",
       "      <th>3</th>\n",
       "      <td>0.857322</td>\n",
       "      <td>8.070710</td>\n",
       "      <td>0.637710</td>\n",
       "    </tr>\n",
       "    <tr>\n",
       "      <th>4</th>\n",
       "      <td>0.687312</td>\n",
       "      <td>8.823271</td>\n",
       "      <td>0.402822</td>\n",
       "    </tr>\n",
       "    <tr>\n",
       "      <th>...</th>\n",
       "      <td>...</td>\n",
       "      <td>...</td>\n",
       "      <td>...</td>\n",
       "    </tr>\n",
       "    <tr>\n",
       "      <th>95</th>\n",
       "      <td>0.733279</td>\n",
       "      <td>5.998872</td>\n",
       "      <td>0.159924</td>\n",
       "    </tr>\n",
       "    <tr>\n",
       "      <th>96</th>\n",
       "      <td>0.595660</td>\n",
       "      <td>4.504236</td>\n",
       "      <td>0.517500</td>\n",
       "    </tr>\n",
       "    <tr>\n",
       "      <th>97</th>\n",
       "      <td>0.125024</td>\n",
       "      <td>12.905163</td>\n",
       "      <td>0.358685</td>\n",
       "    </tr>\n",
       "    <tr>\n",
       "      <th>98</th>\n",
       "      <td>0.677023</td>\n",
       "      <td>11.058720</td>\n",
       "      <td>0.764464</td>\n",
       "    </tr>\n",
       "    <tr>\n",
       "      <th>99</th>\n",
       "      <td>0.505590</td>\n",
       "      <td>9.288611</td>\n",
       "      <td>1.000000</td>\n",
       "    </tr>\n",
       "  </tbody>\n",
       "</table>\n",
       "<p>100 rows × 3 columns</p>\n",
       "</div>"
      ],
      "text/plain": [
       "    difficulty      speed  accident\n",
       "0     0.673138   8.551017  0.720598\n",
       "1     0.655696   0.000000  0.185299\n",
       "2     0.770951   4.647342  0.633775\n",
       "3     0.857322   8.070710  0.637710\n",
       "4     0.687312   8.823271  0.402822\n",
       "..         ...        ...       ...\n",
       "95    0.733279   5.998872  0.159924\n",
       "96    0.595660   4.504236  0.517500\n",
       "97    0.125024  12.905163  0.358685\n",
       "98    0.677023  11.058720  0.764464\n",
       "99    0.505590   9.288611  1.000000\n",
       "\n",
       "[100 rows x 3 columns]"
      ]
     },
     "execution_count": 75,
     "metadata": {},
     "output_type": "execute_result"
    }
   ],
   "source": [
    "num = 100\n",
    "difficulty = np.random.uniform(0, 1, (num,))\n",
    "speed = np.maximum(np.random.normal(15, 5, (num,)) - difficulty * 10, 0)\n",
    "accident = np.minimum(np.maximum(0.03*speed + 0.4*difficulty + np.random.normal(0, 0.3, (num,)), 0), 1)\n",
    "df = pd.DataFrame({\n",
    "    'difficulty': difficulty,\n",
    "    'speed': speed,\n",
    "    'accident': accident\n",
    "})\n",
    "df"
   ]
  },
  {
   "cell_type": "code",
   "execution_count": 76,
   "id": "420c4b54",
   "metadata": {},
   "outputs": [],
   "source": [
    "X = df.difficulty\n",
    "y = df.speed\n",
    "z = df.accident"
   ]
  },
  {
   "cell_type": "code",
   "execution_count": null,
   "id": "c274f4e5",
   "metadata": {},
   "outputs": [
    {
     "data": {
      "text/plain": [
       "np.float64(-9.8687484616101)"
      ]
     },
     "execution_count": 69,
     "metadata": {},
     "output_type": "execute_result"
    }
   ],
   "source": [
    "def regression(data, X, y, num):\n",
    "    coef = []\n",
    "    for i in range(num):\n",
    "        sample = bootstrap_sample(data)\n",
    "        X_sample = sm.add_constant(sample[X])\n",
    "        model = sm.OLS(sample[y], X_sample).fit()\n",
    "        coef.append(model.params.iloc[1])\n",
    "    return np.mean(coef)\n",
    "\n",
    "regression_result = regression(df, 'difficulty', 'speed', 1000)\n",
    "regression_result\n"
   ]
  },
  {
   "cell_type": "code",
   "execution_count": 16,
   "id": "1897bfd6",
   "metadata": {},
   "outputs": [
    {
     "data": {
      "text/plain": [
       "np.float64(-6.334457634814191)"
      ]
     },
     "execution_count": 16,
     "metadata": {},
     "output_type": "execute_result"
    }
   ],
   "source": [
    "model = sm.OLS(y, sm.add_constant(X)).fit()\n",
    "model.params.iloc[1]"
   ]
  },
  {
   "cell_type": "code",
   "execution_count": 79,
   "id": "d19c689c",
   "metadata": {},
   "outputs": [
    {
     "name": "stdout",
     "output_type": "stream",
     "text": [
      "Average coefficient: -9.66\n",
      "Std of coefficient: 0.17\n"
     ]
    }
   ],
   "source": [
    "from sklearn.linear_model import LinearRegression\n",
    "\n",
    "coefs = []\n",
    "num_runs = 1000\n",
    "num_samples = 10000  # many samples per dataset\n",
    "\n",
    "for _ in range(num_runs):\n",
    "    difficulty = np.random.uniform(0, 1, (num_samples,))\n",
    "    speed = np.maximum(np.random.normal(15, 5, (num_samples, )) - difficulty * 10, 0)\n",
    "    model = LinearRegression().fit(difficulty.reshape(-1, 1), speed)\n",
    "    coefs.append(model.coef_[0])\n",
    "\n",
    "print(f\"Average coefficient: {np.mean(coefs):.2f}\")\n",
    "print(f\"Std of coefficient: {np.std(coefs):.2f}\")"
   ]
  },
  {
   "cell_type": "code",
   "execution_count": 88,
   "id": "33386a05",
   "metadata": {},
   "outputs": [
    {
     "name": "stdout",
     "output_type": "stream",
     "text": [
      "Average coefficient with accident: -10.33\n"
     ]
    }
   ],
   "source": [
    "coefs = []\n",
    "num_runs = 1000\n",
    "num_samples = 10000\n",
    "\n",
    "for _ in range(num_runs):\n",
    "    difficulty = np.random.uniform(0, 1, (num_samples,))\n",
    "    speed = np.maximum(np.random.normal(15, 5, (num_samples, )) - difficulty * 10, 0)\n",
    "    accident = np.minimum(\n",
    "        np.maximum(0.03 * speed + 0.4 * difficulty + np.random.normal(0, 0.3, (num_samples,)), 0),\n",
    "        1\n",
    "    )\n",
    "    XZ = np.column_stack([difficulty, accident])\n",
    "    model = LinearRegression().fit(XZ, speed)\n",
    "    coefs.append(model.coef_[0])\n",
    "    \n",
    "print(f\"Average coefficient with accident: {np.mean(coefs):.2f}\")"
   ]
  },
  {
   "cell_type": "code",
   "execution_count": null,
   "id": "37cc1b3c",
   "metadata": {},
   "outputs": [],
   "source": []
  }
 ],
 "metadata": {
  "kernelspec": {
   "display_name": "Python 3",
   "language": "python",
   "name": "python3"
  },
  "language_info": {
   "codemirror_mode": {
    "name": "ipython",
    "version": 3
   },
   "file_extension": ".py",
   "mimetype": "text/x-python",
   "name": "python",
   "nbconvert_exporter": "python",
   "pygments_lexer": "ipython3",
   "version": "3.11.9"
  }
 },
 "nbformat": 4,
 "nbformat_minor": 5
}
