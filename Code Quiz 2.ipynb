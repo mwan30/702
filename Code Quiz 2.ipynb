{
 "cells": [
  {
   "cell_type": "code",
   "execution_count": 1,
   "id": "242724cd",
   "metadata": {},
   "outputs": [],
   "source": [
    "import pandas as pd\n",
    "import numpy as np\n",
    "import math\n",
    "from sklearn.linear_model import LinearRegression\n",
    "import statsmodels.api as sm\n",
    "from scipy.stats import ttest_ind, skew"
   ]
  },
  {
   "cell_type": "markdown",
   "id": "cc8b8671",
   "metadata": {},
   "source": [
    "### Homework 2.1"
   ]
  },
  {
   "cell_type": "code",
   "execution_count": 2,
   "id": "ef68514c",
   "metadata": {},
   "outputs": [
    {
     "data": {
      "text/html": [
       "<div>\n",
       "<style scoped>\n",
       "    .dataframe tbody tr th:only-of-type {\n",
       "        vertical-align: middle;\n",
       "    }\n",
       "\n",
       "    .dataframe tbody tr th {\n",
       "        vertical-align: top;\n",
       "    }\n",
       "\n",
       "    .dataframe thead th {\n",
       "        text-align: right;\n",
       "    }\n",
       "</style>\n",
       "<table border=\"1\" class=\"dataframe\">\n",
       "  <thead>\n",
       "    <tr style=\"text-align: right;\">\n",
       "      <th></th>\n",
       "      <th>time</th>\n",
       "      <th>G1</th>\n",
       "      <th>G2</th>\n",
       "      <th>G3</th>\n",
       "    </tr>\n",
       "  </thead>\n",
       "  <tbody>\n",
       "    <tr>\n",
       "      <th>0</th>\n",
       "      <td>0</td>\n",
       "      <td>0.882026</td>\n",
       "      <td>1.441575</td>\n",
       "      <td>0.065409</td>\n",
       "    </tr>\n",
       "    <tr>\n",
       "      <th>1</th>\n",
       "      <td>1</td>\n",
       "      <td>0.210079</td>\n",
       "      <td>-0.163880</td>\n",
       "      <td>0.140310</td>\n",
       "    </tr>\n",
       "    <tr>\n",
       "      <th>2</th>\n",
       "      <td>2</td>\n",
       "      <td>0.509369</td>\n",
       "      <td>-0.115242</td>\n",
       "      <td>0.819830</td>\n",
       "    </tr>\n",
       "    <tr>\n",
       "      <th>3</th>\n",
       "      <td>3</td>\n",
       "      <td>1.150447</td>\n",
       "      <td>1.014698</td>\n",
       "      <td>0.607632</td>\n",
       "    </tr>\n",
       "    <tr>\n",
       "      <th>4</th>\n",
       "      <td>4</td>\n",
       "      <td>0.973779</td>\n",
       "      <td>-0.046562</td>\n",
       "      <td>0.610066</td>\n",
       "    </tr>\n",
       "  </tbody>\n",
       "</table>\n",
       "</div>"
      ],
      "text/plain": [
       "   time        G1        G2        G3\n",
       "0     0  0.882026  1.441575  0.065409\n",
       "1     1  0.210079 -0.163880  0.140310\n",
       "2     2  0.509369 -0.115242  0.819830\n",
       "3     3  1.150447  1.014698  0.607632\n",
       "4     4  0.973779 -0.046562  0.610066"
      ]
     },
     "execution_count": 2,
     "metadata": {},
     "output_type": "execute_result"
    }
   ],
   "source": [
    "hw21 = pd.read_csv('homework_2.1.csv', index_col=0)\n",
    "hw21.head()"
   ]
  },
  {
   "cell_type": "code",
   "execution_count": 3,
   "id": "3f5731e5",
   "metadata": {},
   "outputs": [],
   "source": [
    "g1 = hw21['G1']\n",
    "g2 = hw21['G2']\n",
    "g3 = hw21['G3']\n",
    "x = hw21['time']"
   ]
  },
  {
   "cell_type": "code",
   "execution_count": 4,
   "id": "bd508989",
   "metadata": {},
   "outputs": [
    {
     "data": {
      "text/plain": [
       "const    0.104236\n",
       "time     0.008498\n",
       "dtype: float64"
      ]
     },
     "execution_count": 4,
     "metadata": {},
     "output_type": "execute_result"
    }
   ],
   "source": [
    "model1 = sm.OLS(g1, sm.add_constant(x)).fit()\n",
    "model1.params"
   ]
  },
  {
   "cell_type": "code",
   "execution_count": 5,
   "id": "f33ccba9",
   "metadata": {},
   "outputs": [
    {
     "data": {
      "text/plain": [
       "const    0.685523\n",
       "time     0.007080\n",
       "dtype: float64"
      ]
     },
     "execution_count": 5,
     "metadata": {},
     "output_type": "execute_result"
    }
   ],
   "source": [
    "model2 = sm.OLS(g2, sm.add_constant(x)).fit()\n",
    "model2.params"
   ]
  },
  {
   "cell_type": "code",
   "execution_count": 6,
   "id": "85701464",
   "metadata": {},
   "outputs": [
    {
     "data": {
      "text/plain": [
       "const    0.147479\n",
       "time     0.011473\n",
       "dtype: float64"
      ]
     },
     "execution_count": 6,
     "metadata": {},
     "output_type": "execute_result"
    }
   ],
   "source": [
    "model3 = sm.OLS(g3, sm.add_constant(x)).fit()\n",
    "model3.params"
   ]
  },
  {
   "cell_type": "code",
   "execution_count": 7,
   "id": "8e06a7cf",
   "metadata": {},
   "outputs": [
    {
     "data": {
      "text/plain": [
       "time    0.008498\n",
       "dtype: float64"
      ]
     },
     "execution_count": 7,
     "metadata": {},
     "output_type": "execute_result"
    }
   ],
   "source": [
    "model1_mean = sm.OLS((g1 - np.mean(g1)), ((x - np.mean(x)))).fit()\n",
    "model1_mean.params"
   ]
  },
  {
   "cell_type": "code",
   "execution_count": 8,
   "id": "b8ffee04",
   "metadata": {},
   "outputs": [
    {
     "data": {
      "text/plain": [
       "time    0.00708\n",
       "dtype: float64"
      ]
     },
     "execution_count": 8,
     "metadata": {},
     "output_type": "execute_result"
    }
   ],
   "source": [
    "model2_mean = sm.OLS((g2 - np.mean(g2)), ((x - np.mean(x)))).fit()\n",
    "model2_mean.params"
   ]
  },
  {
   "cell_type": "code",
   "execution_count": 9,
   "id": "db310884",
   "metadata": {},
   "outputs": [
    {
     "data": {
      "text/plain": [
       "time    0.011473\n",
       "dtype: float64"
      ]
     },
     "execution_count": 9,
     "metadata": {},
     "output_type": "execute_result"
    }
   ],
   "source": [
    "model3_mean = sm.OLS((g3 - np.mean(g3)), ((x - np.mean(x)))).fit()\n",
    "model3_mean.params"
   ]
  },
  {
   "cell_type": "code",
   "execution_count": 10,
   "id": "f4ac0f11",
   "metadata": {},
   "outputs": [
    {
     "data": {
      "text/plain": [
       "0.009017"
      ]
     },
     "execution_count": 10,
     "metadata": {},
     "output_type": "execute_result"
    }
   ],
   "source": [
    "(0.008498 + 0.007080 + 0.011473) / 3"
   ]
  },
  {
   "cell_type": "markdown",
   "id": "93a1b6c6",
   "metadata": {},
   "source": [
    "### Homework 2.2"
   ]
  },
  {
   "cell_type": "code",
   "execution_count": 11,
   "id": "bce3bbc9",
   "metadata": {},
   "outputs": [
    {
     "data": {
      "text/html": [
       "<div>\n",
       "<style scoped>\n",
       "    .dataframe tbody tr th:only-of-type {\n",
       "        vertical-align: middle;\n",
       "    }\n",
       "\n",
       "    .dataframe tbody tr th {\n",
       "        vertical-align: top;\n",
       "    }\n",
       "\n",
       "    .dataframe thead th {\n",
       "        text-align: right;\n",
       "    }\n",
       "</style>\n",
       "<table border=\"1\" class=\"dataframe\">\n",
       "  <thead>\n",
       "    <tr style=\"text-align: right;\">\n",
       "      <th></th>\n",
       "      <th>X</th>\n",
       "      <th>Y</th>\n",
       "      <th>Z</th>\n",
       "    </tr>\n",
       "  </thead>\n",
       "  <tbody>\n",
       "    <tr>\n",
       "      <th>0</th>\n",
       "      <td>0</td>\n",
       "      <td>1.182435</td>\n",
       "      <td>-0.725820</td>\n",
       "    </tr>\n",
       "    <tr>\n",
       "      <th>1</th>\n",
       "      <td>0</td>\n",
       "      <td>2.714474</td>\n",
       "      <td>0.563476</td>\n",
       "    </tr>\n",
       "    <tr>\n",
       "      <th>2</th>\n",
       "      <td>0</td>\n",
       "      <td>0.077612</td>\n",
       "      <td>-0.435632</td>\n",
       "    </tr>\n",
       "    <tr>\n",
       "      <th>3</th>\n",
       "      <td>0</td>\n",
       "      <td>-0.154449</td>\n",
       "      <td>-0.104553</td>\n",
       "    </tr>\n",
       "    <tr>\n",
       "      <th>4</th>\n",
       "      <td>0</td>\n",
       "      <td>22.298992</td>\n",
       "      <td>-2.321273</td>\n",
       "    </tr>\n",
       "  </tbody>\n",
       "</table>\n",
       "</div>"
      ],
      "text/plain": [
       "   X          Y         Z\n",
       "0  0   1.182435 -0.725820\n",
       "1  0   2.714474  0.563476\n",
       "2  0   0.077612 -0.435632\n",
       "3  0  -0.154449 -0.104553\n",
       "4  0  22.298992 -2.321273"
      ]
     },
     "execution_count": 11,
     "metadata": {},
     "output_type": "execute_result"
    }
   ],
   "source": [
    "hw22 = pd.read_csv('homework_2.2.csv', index_col=0)\n",
    "hw22.head()"
   ]
  },
  {
   "cell_type": "code",
   "execution_count": 12,
   "id": "0f461a68",
   "metadata": {},
   "outputs": [],
   "source": [
    "y_treat = hw22[hw22['X']==1]['Y']\n",
    "y_untreat = hw22[hw22['X'] == 0]['Y']"
   ]
  },
  {
   "cell_type": "code",
   "execution_count": 13,
   "id": "c4d29c66",
   "metadata": {},
   "outputs": [],
   "source": [
    "mu_y_treat = y_treat.mean()\n",
    "mu_y_untreat = y_untreat.mean()"
   ]
  },
  {
   "cell_type": "code",
   "execution_count": 14,
   "id": "a6b9051e",
   "metadata": {},
   "outputs": [
    {
     "data": {
      "text/plain": [
       "np.float64(2.92071726472051)"
      ]
     },
     "execution_count": 14,
     "metadata": {},
     "output_type": "execute_result"
    }
   ],
   "source": [
    "mean_effect = mu_y_treat - mu_y_untreat\n",
    "mean_effect"
   ]
  },
  {
   "cell_type": "code",
   "execution_count": 15,
   "id": "e949a783",
   "metadata": {},
   "outputs": [
    {
     "data": {
      "text/plain": [
       "np.float64(0.03225722404867962)"
      ]
     },
     "execution_count": 15,
     "metadata": {},
     "output_type": "execute_result"
    }
   ],
   "source": [
    "# Bootstrap sampling to measure variance of effect\n",
    "\n",
    "def bootstrap_sample(data, n=None):\n",
    "    if n is None:\n",
    "        n = len(data)\n",
    "    return data.sample(n, replace=True)\n",
    "\n",
    "effect = []\n",
    "for i in range(len(hw22)):\n",
    "    bs = bootstrap_sample(hw22)\n",
    "    y_treat = bs[bs['X'] == 1]['Y']\n",
    "    y_untreat = bs[bs['X'] == 0]['Y']\n",
    "    mu_y_treat = y_treat.mean()\n",
    "    mu_y_untreat = y_untreat.mean()\n",
    "    effect.append(mu_y_treat - mu_y_untreat)\n",
    "\n",
    "np.var(effect)"
   ]
  },
  {
   "cell_type": "code",
   "execution_count": 16,
   "id": "b952c2cf",
   "metadata": {},
   "outputs": [
    {
     "data": {
      "text/plain": [
       "const    4.922040\n",
       "X        2.920717\n",
       "dtype: float64"
      ]
     },
     "execution_count": 16,
     "metadata": {},
     "output_type": "execute_result"
    }
   ],
   "source": [
    "# Linear regression to measure effect\n",
    "\n",
    "model = sm.OLS(hw22['Y'], sm.add_constant(hw22['X'])).fit()\n",
    "model.params # coefficient of X is the effect"
   ]
  },
  {
   "cell_type": "code",
   "execution_count": 21,
   "id": "d84b1d71",
   "metadata": {},
   "outputs": [],
   "source": [
    "bootstrap_effects = []\n",
    "\n",
    "for i in range(len(hw22)):\n",
    "    bs = bootstrap_sample(hw22)\n",
    "    model_boot = sm.OLS(bs['Y'], sm.add_constant(bs['X'])).fit()\n",
    "    bootstrap_effects.append(model_boot.params['X'])\n",
    "\n",
    "effect_skew = skew(bootstrap_effects)"
   ]
  },
  {
   "cell_type": "code",
   "execution_count": 22,
   "id": "942d4f73",
   "metadata": {},
   "outputs": [
    {
     "data": {
      "text/plain": [
       "np.float64(0.0469345498826032)"
      ]
     },
     "execution_count": 22,
     "metadata": {},
     "output_type": "execute_result"
    }
   ],
   "source": [
    "effect_skew"
   ]
  },
  {
   "cell_type": "code",
   "execution_count": null,
   "id": "cbfb9784",
   "metadata": {},
   "outputs": [],
   "source": []
  }
 ],
 "metadata": {
  "kernelspec": {
   "display_name": "Python 3",
   "language": "python",
   "name": "python3"
  },
  "language_info": {
   "codemirror_mode": {
    "name": "ipython",
    "version": 3
   },
   "file_extension": ".py",
   "mimetype": "text/x-python",
   "name": "python",
   "nbconvert_exporter": "python",
   "pygments_lexer": "ipython3",
   "version": "3.11.9"
  }
 },
 "nbformat": 4,
 "nbformat_minor": 5
}
