{
 "cells": [
  {
   "cell_type": "code",
   "execution_count": 11,
   "id": "eb3b1ef3",
   "metadata": {},
   "outputs": [],
   "source": [
    "import numpy as np\n",
    "import pandas as pd\n",
    "import statsmodels.api as sm\n",
    "from sklearn.linear_model import LinearRegression\n",
    "from scipy.stats import skew"
   ]
  },
  {
   "cell_type": "code",
   "execution_count": 2,
   "id": "a7b39fbd",
   "metadata": {},
   "outputs": [],
   "source": [
    "def simulate(A=1, B=1, C=10, D=1000):\n",
    "    W = np.random.normal(0, 1, D)\n",
    "    X = np.random.normal(0, B, D)\n",
    "    Y = A*X - W + np.random.normal(0, C, D)\n",
    "    return Y, X, W"
   ]
  },
  {
   "cell_type": "code",
   "execution_count": 24,
   "id": "b3eec128",
   "metadata": {},
   "outputs": [
    {
     "data": {
      "text/plain": [
       "0.886"
      ]
     },
     "execution_count": 24,
     "metadata": {},
     "output_type": "execute_result"
    }
   ],
   "source": [
    "t_vals = []\n",
    "\n",
    "for i in range(1000):\n",
    "    Y, X, W = simulate(A=1, B=1, C=10, D=1000)\n",
    "    X_with_W = sm.add_constant(np.column_stack([X, W]))\n",
    "    model = sm.OLS(Y, X_with_W).fit()\n",
    "    t_vals.append(abs(model.tvalues[1]))\n",
    "\n",
    "cnt = 0\n",
    "for i in t_vals:\n",
    "    if i > 1.96:\n",
    "        cnt+=1\n",
    "\n",
    "estimate = cnt/1000\n",
    "estimate"
   ]
  },
  {
   "cell_type": "code",
   "execution_count": 25,
   "id": "371b8382",
   "metadata": {},
   "outputs": [
    {
     "data": {
      "text/plain": [
       "np.float64(0.004657759551149515)"
      ]
     },
     "execution_count": 25,
     "metadata": {},
     "output_type": "execute_result"
    }
   ],
   "source": [
    "# Finding skew\n",
    "skew(t_vals)"
   ]
  },
  {
   "cell_type": "code",
   "execution_count": 46,
   "id": "8dbcbb38",
   "metadata": {},
   "outputs": [
    {
     "data": {
      "text/plain": [
       "0.5"
      ]
     },
     "execution_count": 46,
     "metadata": {},
     "output_type": "execute_result"
    }
   ],
   "source": [
    "t_vals = []\n",
    "\n",
    "for i in range(1000):\n",
    "    Y, X, W = simulate(A=2.0, B=1, C=10, D=100)\n",
    "    X_with_W = sm.add_constant(np.column_stack([X, W]))\n",
    "    model = sm.OLS(Y, X_with_W).fit()\n",
    "    t_vals.append(abs(model.tvalues[1]))\n",
    "\n",
    "cnt = 0\n",
    "for i in t_vals:\n",
    "    if i > 1.96:\n",
    "        cnt+=1\n",
    "\n",
    "estimate = cnt/1000\n",
    "estimate"
   ]
  }
 ],
 "metadata": {
  "kernelspec": {
   "display_name": "Python 3",
   "language": "python",
   "name": "python3"
  },
  "language_info": {
   "codemirror_mode": {
    "name": "ipython",
    "version": 3
   },
   "file_extension": ".py",
   "mimetype": "text/x-python",
   "name": "python",
   "nbconvert_exporter": "python",
   "pygments_lexer": "ipython3",
   "version": "3.11.9"
  }
 },
 "nbformat": 4,
 "nbformat_minor": 5
}
