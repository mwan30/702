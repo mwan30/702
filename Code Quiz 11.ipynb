{
 "cells": [
  {
   "cell_type": "code",
   "execution_count": 2,
   "id": "5513d946",
   "metadata": {},
   "outputs": [],
   "source": [
    "import numpy as np\n",
    "import pandas as pd\n",
    "import statsmodels.api as sm\n",
    "from sklearn.linear_model import LinearRegression"
   ]
  },
  {
   "cell_type": "code",
   "execution_count": 3,
   "id": "400c1e4f",
   "metadata": {},
   "outputs": [
    {
     "name": "stdout",
     "output_type": "stream",
     "text": [
      "1.1260965414520492\n"
     ]
    }
   ],
   "source": [
    "num = 1000\n",
    "event_time = int(num/2)\n",
    "R_market = np.random.normal(0, 1, num) + np.arange(num) / num\n",
    "R_target = 2 + R_market + np.random.normal(0, 1, num) + (np.arange(num) == int(num/2) + 1) * 2\n",
    "\n",
    "results = sm.OLS(R_target[:event_time], sm.add_constant(R_market[:event_time])).fit()\n",
    "\n",
    "alpha, beta = results.params\n",
    "\n",
    "resid = R_target - results.predict(sm.add_constant(R_market))\n",
    "print(resid[event_time + 1] / resid[:event_time].std(ddof=2))"
   ]
  },
  {
   "cell_type": "code",
   "execution_count": 4,
   "id": "ac15cb78",
   "metadata": {},
   "outputs": [
    {
     "data": {
      "text/plain": [
       "np.float64(0.045657015590200446)"
      ]
     },
     "execution_count": 4,
     "metadata": {},
     "output_type": "execute_result"
    }
   ],
   "source": [
    "num = 1000\n",
    "event_time = int(num/2)\n",
    "\n",
    "np.random.seed(0)\n",
    "R_market = np.random.normal(0, 1, num) + np.arange(num) / num\n",
    "R_target = 2 + R_market + np.random.normal(0, 1, num) + (np.arange(num) == int(num/2) + 1) * 2\n",
    "\n",
    "detected = []\n",
    "for t in range(100, num - 2):\n",
    "    np.random.seed(0)\n",
    "    results = sm.OLS(R_target[:t], sm.add_constant(R_market[:t])).fit()\n",
    "    resid = R_target - results.predict(sm.add_constant(R_market))\n",
    "    std_resid = resid[:t].std(ddof=2)\n",
    "    test_stat = resid[t+1] / std_resid\n",
    "    \n",
    "    if abs(test_stat) > 1.96:\n",
    "        detected.append(1)\n",
    "    else:\n",
    "        detected.append(0)\n",
    "\n",
    "np.mean(detected)"
   ]
  },
  {
   "cell_type": "code",
   "execution_count": 5,
   "id": "e8990272",
   "metadata": {},
   "outputs": [],
   "source": [
    "def make_error(corr_const, num):\n",
    "    sigma = 5 * 1 / np.sqrt((1 - corr_const)**2 / (1 - corr_const**2))\n",
    "    err = list()\n",
    "    prev = np.random.normal(0, sigma)\n",
    "    \n",
    "    for n in range(num):\n",
    "        prev = corr_const * prev + (1 - corr_const) * np.random.normal(0, sigma)\n",
    "        err.append(prev)\n",
    "    \n",
    "    return np.array(err)"
   ]
  },
  {
   "cell_type": "code",
   "execution_count": 6,
   "id": "69c8accd",
   "metadata": {},
   "outputs": [
    {
     "data": {
      "text/plain": [
       "np.float64(0.0378619153674833)"
      ]
     },
     "execution_count": 6,
     "metadata": {},
     "output_type": "execute_result"
    }
   ],
   "source": [
    "num = 1000\n",
    "event_time = int(num/2)\n",
    "detected = []\n",
    "\n",
    "np.random.seed(0)\n",
    "R_market = np.random.normal(0, 1, num) + np.arange(num) / num\n",
    "\n",
    "error = make_error(corr_const=0.9, num=num)\n",
    "R_target = 2 + R_market + error + (np.arange(num) == int(num/2) + 1) * 2\n",
    "\n",
    "for t in range(100, num - 2):\n",
    "    np.random.seed(0)\n",
    "    results = sm.OLS(R_target[:t], sm.add_constant(R_market[:t])).fit()\n",
    "    resid = R_target - results.predict(sm.add_constant(R_market))\n",
    "    std_resid = resid[:t].std(ddof=2)\n",
    "    test_stat = resid[t+1] / std_resid\n",
    "    detected.append(abs(test_stat) > 1.96)\n",
    "    \n",
    "np.mean(detected)"
   ]
  }
 ],
 "metadata": {
  "kernelspec": {
   "display_name": "Python 3",
   "language": "python",
   "name": "python3"
  },
  "language_info": {
   "codemirror_mode": {
    "name": "ipython",
    "version": 3
   },
   "file_extension": ".py",
   "mimetype": "text/x-python",
   "name": "python",
   "nbconvert_exporter": "python",
   "pygments_lexer": "ipython3",
   "version": "3.11.9"
  }
 },
 "nbformat": 4,
 "nbformat_minor": 5
}
