{
 "cells": [
  {
   "cell_type": "code",
   "execution_count": 1,
   "id": "183f111c",
   "metadata": {},
   "outputs": [],
   "source": [
    "import numpy as np\n",
    "import pandas as pd\n",
    "import matplotlib.pyplot as plt\n",
    "import statsmodels.formula.api as smf\n",
    "from sklearn.neighbors import NearestNeighbors\n",
    "import statsmodels.api as sm"
   ]
  },
  {
   "cell_type": "markdown",
   "id": "96164a55",
   "metadata": {},
   "source": [
    "### Homework reflection 1\n",
    "\n",
    "1. In Coding Quiz 1, you are asked to find the distance of the farthest match in a set. Is this farthest matching distance too far to be a meaningful match? How can you decide this?"
   ]
  },
  {
   "cell_type": "code",
   "execution_count": 2,
   "id": "c216a070",
   "metadata": {},
   "outputs": [
    {
     "data": {
      "text/plain": [
       "0.2102170871093757"
      ]
     },
     "execution_count": 2,
     "metadata": {},
     "output_type": "execute_result"
    }
   ],
   "source": [
    "hw12 = pd.read_csv('homework_1.2.csv', index_col=0)\n",
    "X0 = hw12[hw12['X'] == 0].reset_index(drop=True)\n",
    "X1 = hw12[hw12['X'] == 1].reset_index(drop=True)\n",
    "\n",
    "# Matching Z values with X=1 with Z values with X=0\n",
    "\n",
    "neigh = NearestNeighbors(n_neighbors=1).fit(X0[['Z']])\n",
    "distances, indices = neigh.kneighbors(X1[['Z']])\n",
    "\n",
    "matches = X1.copy()\n",
    "matches['Matched_Index_in_X0'] = indices.flatten()\n",
    "matches['Matched_Z_in_X0'] = X0.loc[indices.flatten(), 'Z'].values\n",
    "matches['Y_in_X0'] = X0.loc[indices.flatten(), 'Y'].values\n",
    "matches['Distance'] = distances.flatten()\n",
    "\n",
    "# Farthest distance \n",
    "max(matches['Distance'])"
   ]
  },
  {
   "cell_type": "code",
   "execution_count": 3,
   "id": "b8c56393",
   "metadata": {},
   "outputs": [
    {
     "data": {
      "text/plain": [
       "np.float64(2.3458567940931934)"
      ]
     },
     "execution_count": 3,
     "metadata": {},
     "output_type": "execute_result"
    }
   ],
   "source": [
    "# Using Z-score to estimate significance of farthest match distance\n",
    "max = matches.Distance.max()\n",
    "mean = matches.Distance.mean()\n",
    "std = matches.Distance.std()\n",
    "z_score = (max - mean) / std\n",
    "z_score"
   ]
  },
  {
   "cell_type": "code",
   "execution_count": 4,
   "id": "7f51a72e",
   "metadata": {},
   "outputs": [
    {
     "data": {
      "text/plain": [
       "np.float64(0.19849876912855724)"
      ]
     },
     "execution_count": 4,
     "metadata": {},
     "output_type": "execute_result"
    }
   ],
   "source": [
    "# Using percentile to estimate significance of farthest match distance\n",
    "percentile = np.percentile(matches['Distance'], 95)\n",
    "percentile"
   ]
  },
  {
   "cell_type": "markdown",
   "id": "d5ffbe3b",
   "metadata": {},
   "source": [
    "<font color='seagreen'> The farthest distance found in Code Quiz 1 was around 0.210. This distance may be considered to be <b>too far to be a meaningful match</b>. This was determined with two methods: Z-score and comparison with a percentile distance. First of all, the Z-score found was around 2.346. This means that the farthest match is about 2 standard deviations above the mean distance, which can be considered to be too far. Additionally, comparing this farthest match distance to the 95th percentile of distances, which is 0.198, it is larger than this number. This means that the farthest match distance is larger than the majority of the distances in this dataset, again making it too far to be a meaningful match."
   ]
  },
  {
   "cell_type": "markdown",
   "id": "1fe11c44",
   "metadata": {},
   "source": [
    "2. In Code Quiz 1, there are two approaches to matching:\\\n",
    "    (A) Picking the best match X = 0 corresponding to each X = 1 using Z values.\\\n",
    "    (B) Using radius_neighbors to pick all matches X = 0 within a distance of 0.2 of each X = 1.\n",
    "\n",
    "    Invent your own type of matching similar to 1 and 2 (or look one up on the internet), which has a different way to pick the matches in X = 0. Clearly explain the approach you invented or found."
   ]
  },
  {
   "cell_type": "code",
   "execution_count": 5,
   "id": "7ebc42d8",
   "metadata": {},
   "outputs": [],
   "source": [
    "# Using mutual nearest neighbors to find matches\n",
    "\n",
    "# Computing full distance matrix\n",
    "Z_0 = X0[['Z']].values\n",
    "Z_1 = X1[['Z']].values\n",
    "dist_matrix = np.abs(Z_1 - Z_0.T)\n",
    "\n",
    "from scipy.spatial import distance_matrix\n",
    "dist_matrix = distance_matrix(Z_1, Z_0)"
   ]
  },
  {
   "cell_type": "code",
   "execution_count": 6,
   "id": "82f80004",
   "metadata": {},
   "outputs": [
    {
     "data": {
      "text/plain": [
       "(array([48, 25, 18,  9,  9, 13,  9,  9,  9,  9,  9,  9, 27,  9, 25,  9,  9,\n",
       "         5, 17, 17,  9, 21, 46, 48, 47, 39, 46,  5, 18,  9, 29, 11, 24, 13,\n",
       "         9,  9,  9,  9,  1, 38, 37, 13, 21,  9, 20, 37, 45,  9]),\n",
       " array([17, 38, 17, 41, 17, 17, 39, 39, 39, 13, 39, 31, 17, 41, 45, 12, 39,\n",
       "        18,  2, 39, 44, 44, 32, 39, 32,  1, 45, 12, 45, 30, 39,  1, 39, 39,\n",
       "        12,  0, 39, 45, 39, 25, 39, 17, 45, 17, 39, 27, 25, 24,  0, 32, 39,\n",
       "        39]))"
      ]
     },
     "execution_count": 6,
     "metadata": {},
     "output_type": "execute_result"
    }
   ],
   "source": [
    "# Finding mutual nearest neighbors\n",
    "X0_to_X1 = np.argmin(dist_matrix, axis=1)\n",
    "X1_to_X0 = np.argmin(dist_matrix, axis=0)\n",
    "\n",
    "X0_to_X1, X1_to_X0"
   ]
  },
  {
   "cell_type": "code",
   "execution_count": 7,
   "id": "8aa755ac",
   "metadata": {},
   "outputs": [],
   "source": [
    "mutual_pairs = []\n",
    "for i, j in enumerate(X0_to_X1):\n",
    "    if X1_to_X0[j] == i:\n",
    "        mutual_pairs.append((i, j))"
   ]
  },
  {
   "cell_type": "code",
   "execution_count": 8,
   "id": "8c6add33",
   "metadata": {},
   "outputs": [
    {
     "data": {
      "text/plain": [
       "[(0, np.int64(48), np.float64(0.0011378377461460643)),\n",
       " (1, np.int64(25), np.float64(0.007214212398742315)),\n",
       " (2, np.int64(18), np.float64(0.0005552574633511109)),\n",
       " (12, np.int64(27), np.float64(0.0048314106033744975)),\n",
       " (13, np.int64(9), np.float64(0.0023724253366049775)),\n",
       " (17, np.int64(5), np.float64(0.0003893877747161989)),\n",
       " (18, np.int64(17), np.float64(0.0007015002011201421)),\n",
       " (24, np.int64(47), np.float64(0.0028715647495387853)),\n",
       " (25, np.int64(39), np.float64(0.002554828469792214)),\n",
       " (30, np.int64(29), np.float64(0.00233993423947651)),\n",
       " (31, np.int64(11), np.float64(0.005170336060432601)),\n",
       " (32, np.int64(24), np.float64(0.012294394414781196)),\n",
       " (38, np.int64(1), np.float64(0.0020821436734020926)),\n",
       " (39, np.int64(38), np.float64(0.0014688422589249073)),\n",
       " (41, np.int64(13), np.float64(0.0003989454758536737)),\n",
       " (44, np.int64(20), np.float64(0.0006436645180140088)),\n",
       " (45, np.int64(37), np.float64(0.006599130370791517))]"
      ]
     },
     "execution_count": 8,
     "metadata": {},
     "output_type": "execute_result"
    }
   ],
   "source": [
    "# Applying threshold\n",
    "threshold = 0.2\n",
    "final_pairs = [(i, j, dist_matrix[i, j]) for (i, j) in mutual_pairs if dist_matrix[i, j] <= threshold]\n",
    "final_pairs"
   ]
  },
  {
   "cell_type": "code",
   "execution_count": 9,
   "id": "85885b57",
   "metadata": {},
   "outputs": [
    {
     "data": {
      "text/html": [
       "<div>\n",
       "<style scoped>\n",
       "    .dataframe tbody tr th:only-of-type {\n",
       "        vertical-align: middle;\n",
       "    }\n",
       "\n",
       "    .dataframe tbody tr th {\n",
       "        vertical-align: top;\n",
       "    }\n",
       "\n",
       "    .dataframe thead th {\n",
       "        text-align: right;\n",
       "    }\n",
       "</style>\n",
       "<table border=\"1\" class=\"dataframe\">\n",
       "  <thead>\n",
       "    <tr style=\"text-align: right;\">\n",
       "      <th></th>\n",
       "      <th>X1_index</th>\n",
       "      <th>X0_index</th>\n",
       "      <th>Z1</th>\n",
       "      <th>Z0</th>\n",
       "      <th>Distance</th>\n",
       "    </tr>\n",
       "  </thead>\n",
       "  <tbody>\n",
       "    <tr>\n",
       "      <th>0</th>\n",
       "      <td>0</td>\n",
       "      <td>48</td>\n",
       "      <td>0.715189</td>\n",
       "      <td>0.716327</td>\n",
       "      <td>0.001138</td>\n",
       "    </tr>\n",
       "    <tr>\n",
       "      <th>1</th>\n",
       "      <td>1</td>\n",
       "      <td>25</td>\n",
       "      <td>0.645894</td>\n",
       "      <td>0.653108</td>\n",
       "      <td>0.007214</td>\n",
       "    </tr>\n",
       "    <tr>\n",
       "      <th>2</th>\n",
       "      <td>2</td>\n",
       "      <td>18</td>\n",
       "      <td>0.437587</td>\n",
       "      <td>0.437032</td>\n",
       "      <td>0.000555</td>\n",
       "    </tr>\n",
       "    <tr>\n",
       "      <th>3</th>\n",
       "      <td>12</td>\n",
       "      <td>27</td>\n",
       "      <td>0.461479</td>\n",
       "      <td>0.466311</td>\n",
       "      <td>0.004831</td>\n",
       "    </tr>\n",
       "    <tr>\n",
       "      <th>4</th>\n",
       "      <td>13</td>\n",
       "      <td>9</td>\n",
       "      <td>0.780529</td>\n",
       "      <td>0.778157</td>\n",
       "      <td>0.002372</td>\n",
       "    </tr>\n",
       "    <tr>\n",
       "      <th>5</th>\n",
       "      <td>17</td>\n",
       "      <td>5</td>\n",
       "      <td>0.568434</td>\n",
       "      <td>0.568045</td>\n",
       "      <td>0.000389</td>\n",
       "    </tr>\n",
       "    <tr>\n",
       "      <th>6</th>\n",
       "      <td>18</td>\n",
       "      <td>17</td>\n",
       "      <td>0.617635</td>\n",
       "      <td>0.616934</td>\n",
       "      <td>0.000702</td>\n",
       "    </tr>\n",
       "    <tr>\n",
       "      <th>7</th>\n",
       "      <td>24</td>\n",
       "      <td>47</td>\n",
       "      <td>0.128926</td>\n",
       "      <td>0.131798</td>\n",
       "      <td>0.002872</td>\n",
       "    </tr>\n",
       "    <tr>\n",
       "      <th>8</th>\n",
       "      <td>25</td>\n",
       "      <td>39</td>\n",
       "      <td>0.315428</td>\n",
       "      <td>0.317983</td>\n",
       "      <td>0.002555</td>\n",
       "    </tr>\n",
       "    <tr>\n",
       "      <th>9</th>\n",
       "      <td>30</td>\n",
       "      <td>29</td>\n",
       "      <td>0.161310</td>\n",
       "      <td>0.158970</td>\n",
       "      <td>0.002340</td>\n",
       "    </tr>\n",
       "    <tr>\n",
       "      <th>10</th>\n",
       "      <td>31</td>\n",
       "      <td>11</td>\n",
       "      <td>0.138183</td>\n",
       "      <td>0.143353</td>\n",
       "      <td>0.005170</td>\n",
       "    </tr>\n",
       "    <tr>\n",
       "      <th>11</th>\n",
       "      <td>32</td>\n",
       "      <td>24</td>\n",
       "      <td>0.196582</td>\n",
       "      <td>0.208877</td>\n",
       "      <td>0.012294</td>\n",
       "    </tr>\n",
       "    <tr>\n",
       "      <th>12</th>\n",
       "      <td>38</td>\n",
       "      <td>1</td>\n",
       "      <td>0.604846</td>\n",
       "      <td>0.602763</td>\n",
       "      <td>0.002082</td>\n",
       "    </tr>\n",
       "    <tr>\n",
       "      <th>13</th>\n",
       "      <td>39</td>\n",
       "      <td>38</td>\n",
       "      <td>0.120197</td>\n",
       "      <td>0.118728</td>\n",
       "      <td>0.001469</td>\n",
       "    </tr>\n",
       "    <tr>\n",
       "      <th>14</th>\n",
       "      <td>41</td>\n",
       "      <td>13</td>\n",
       "      <td>0.414263</td>\n",
       "      <td>0.414662</td>\n",
       "      <td>0.000399</td>\n",
       "    </tr>\n",
       "    <tr>\n",
       "      <th>15</th>\n",
       "      <td>44</td>\n",
       "      <td>20</td>\n",
       "      <td>0.667410</td>\n",
       "      <td>0.666767</td>\n",
       "      <td>0.000644</td>\n",
       "    </tr>\n",
       "    <tr>\n",
       "      <th>16</th>\n",
       "      <td>45</td>\n",
       "      <td>37</td>\n",
       "      <td>0.289406</td>\n",
       "      <td>0.282807</td>\n",
       "      <td>0.006599</td>\n",
       "    </tr>\n",
       "  </tbody>\n",
       "</table>\n",
       "</div>"
      ],
      "text/plain": [
       "    X1_index  X0_index        Z1        Z0  Distance\n",
       "0          0        48  0.715189  0.716327  0.001138\n",
       "1          1        25  0.645894  0.653108  0.007214\n",
       "2          2        18  0.437587  0.437032  0.000555\n",
       "3         12        27  0.461479  0.466311  0.004831\n",
       "4         13         9  0.780529  0.778157  0.002372\n",
       "5         17         5  0.568434  0.568045  0.000389\n",
       "6         18        17  0.617635  0.616934  0.000702\n",
       "7         24        47  0.128926  0.131798  0.002872\n",
       "8         25        39  0.315428  0.317983  0.002555\n",
       "9         30        29  0.161310  0.158970  0.002340\n",
       "10        31        11  0.138183  0.143353  0.005170\n",
       "11        32        24  0.196582  0.208877  0.012294\n",
       "12        38         1  0.604846  0.602763  0.002082\n",
       "13        39        38  0.120197  0.118728  0.001469\n",
       "14        41        13  0.414263  0.414662  0.000399\n",
       "15        44        20  0.667410  0.666767  0.000644\n",
       "16        45        37  0.289406  0.282807  0.006599"
      ]
     },
     "execution_count": 9,
     "metadata": {},
     "output_type": "execute_result"
    }
   ],
   "source": [
    "mutual_matches_df = pd.DataFrame([\n",
    "    {\n",
    "        'X1_index' : i,\n",
    "        'X0_index' : j,\n",
    "        'Z1' : Z_1[i, 0],\n",
    "        'Z0' : Z_0[j, 0],\n",
    "        'Distance' : dist_matrix[i, j]\n",
    "    }\n",
    "    for (i, j, dist) in final_pairs\n",
    "])\n",
    "mutual_matches_df"
   ]
  },
  {
   "cell_type": "markdown",
   "id": "0c4cb5e6",
   "metadata": {},
   "source": [
    "<font color='seagreen'> This method of matching is called <b>Mutual Nearest Neighbors</b>. It's mainly used as a computational tool to perform batch correction for single-cell RNA-sequencing data (https://www.biorxiv.org/content/10.1101/2024.10.08.615307v1#:~:text=Mutual%20nearest%20neighbors%20(MNN)%20is,account%20the%202D%20spatial%20information.) This method ensures that matches are mutually closest within the dataset. It's done by computing pairwise distances between the Z values for both X = 1 and X = 0 to create a \"distance matrix\" (Z[X = 1] - Z[X = 0]). Then, using this distance matrix, I found each X = 1 point that is closest to X = 0 and vice versa. So, for each row (each X = 1 point), I looked across the row and pick out the closest X = 0 point (the smallest distance). This was done using argmin with axis = 0. Then, the same was done for X = 0 points to X = 1 points (the columns, using axis = 1). Then, I found pairs that were a mutual nearest neighbor if the X = 1 point picked the X = 0 point as its closest AND that same X = 0 point picked the X = 1 point as its closest. With these pairs, I applied a distance threshold of 0.2 and obtained a list of mutual matches as shown above."
   ]
  },
  {
   "cell_type": "markdown",
   "id": "04a7c441",
   "metadata": {},
   "source": [
    "### Homework reflection 2\n",
    "\n",
    "1. Invent an example situation that would use fixed effects.\n",
    "\n",
    "    <font color='seagreen'> An example situation that would use fixed effects is if we were to study the effect of class size on student test scores. The study would be done with multiple schools over the course of 5 years and the dataset would contain student-level data, such as test scores, class size, and demographics, the school ID, and the academic year. Since each school has unobserved characteristics that don't change much over time but do differ across schools, such as quality of school leadership, neighborhood factors, and availability of extracurricular resources, it would be difficult to control for them without using fixed effects. Thus, using a fixed effects model would allow us to focus on within-school variation over time. </font>\n",
    "\n",
    "2. Write a Python program that performs a bootstrap simulation to find the variance in the mean of the Pareto distribution when different samples are taken. Explain what you had to do for this. As you make the full sample size bigger (for the same distribution), what happens to the variance of the mean of the samples? Does it stay about the same, get smaller, or get bigger?"
   ]
  },
  {
   "cell_type": "code",
   "execution_count": 10,
   "id": "2c96e89b",
   "metadata": {},
   "outputs": [
    {
     "name": "stdout",
     "output_type": "stream",
     "text": [
      "Sample size: 10, Variance: 0.07028193724607909\n",
      "Sample size: 50, Variance: 0.030967737585463326\n",
      "Sample size: 100, Variance: 0.006172671785338952\n",
      "Sample size: 500, Variance: 0.0011143763631858746\n",
      "Sample size: 1000, Variance: 0.0006505246982392121\n"
     ]
    }
   ],
   "source": [
    "# Function to perform bootstrap simulation\n",
    "\n",
    "def bootstrap_variance_pareto(alpha, pop_size, bootstrap_size, sample_size):\n",
    "    population = np.random.pareto(alpha, pop_size)\n",
    "    \n",
    "    means = []\n",
    "    for _ in range(bootstrap_size):\n",
    "        sample = np.random.choice(population, size=sample_size, replace=True)\n",
    "        means.append(np.mean(sample))\n",
    "    \n",
    "    return np.var(means)\n",
    "\n",
    "alpha = 3.0\n",
    "bootstrap_size = 1000\n",
    "pop_size = 10000\n",
    "sample_sizes = [10, 50, 100, 500, 1000]\n",
    "\n",
    "variances = []\n",
    "for size in sample_sizes:\n",
    "    var = bootstrap_variance_pareto(alpha, pop_size, bootstrap_size, size)\n",
    "    variances.append(var)\n",
    "    print(f'Sample size: {size}, Variance: {var}')"
   ]
  },
  {
   "cell_type": "markdown",
   "id": "d0b0184b",
   "metadata": {},
   "source": [
    "<font color='seagreen'> For this program, I had to create a function that performs the bootstrap simulation with the Pareto distribution. This function takes a bootstrap_size and runs a for loop that obtains the means of these bootstrap samples and puts them into a list. The function then returns the variance of this list of means. Once the function was set up, another for loop was created to draw bootstrap samples (with replacement) of different sizes (10, 50, 100, 500, 1000) to seek how variance changes when sample size increases. Ultimately, we see that as sample sizes increase, variance <b>decreases</b>. "
   ]
  },
  {
   "cell_type": "markdown",
   "id": "8f1cf297",
   "metadata": {},
   "source": [
    "### Homework reflection 3\n",
    "\n",
    "1. In the event study in Coding Quiz 3, how would we go about testing for a change in the second derivative as well?"
   ]
  },
  {
   "cell_type": "code",
   "execution_count": 11,
   "id": "13bd561b",
   "metadata": {},
   "outputs": [
    {
     "data": {
      "text/plain": [
       "(<class 'statsmodels.iolib.summary.Summary'>\n",
       " \"\"\"\n",
       "                             OLS Regression Results                            \n",
       " ==============================================================================\n",
       " Dep. Variable:                 value1   R-squared:                       0.791\n",
       " Model:                            OLS   Adj. R-squared:                  0.780\n",
       " Method:                 Least Squares   F-statistic:                     71.17\n",
       " Date:                Sun, 15 Jun 2025   Prob (F-statistic):           1.97e-30\n",
       " Time:                        17:38:48   Log-Likelihood:                -135.02\n",
       " No. Observations:                 100   AIC:                             282.0\n",
       " Df Residuals:                      94   BIC:                             297.7\n",
       " Df Model:                           5                                         \n",
       " Covariance Type:            nonrobust                                         \n",
       " =================================================================================\n",
       "                     coef    std err          t      P>|t|      [0.025      0.975]\n",
       " ---------------------------------------------------------------------------------\n",
       " Intercept         0.5756      0.425      1.353      0.179      -0.269       1.420\n",
       " time_centered     0.0108      0.038      0.280      0.780      -0.066       0.087\n",
       " post_event        0.8948      0.579      1.546      0.126      -0.255       2.044\n",
       " interaction       0.0656      0.053      1.228      0.222      -0.040       0.172\n",
       " time_sq           0.0004      0.001      0.525      0.601      -0.001       0.002\n",
       " time_sq_post   2.689e-05      0.001      0.026      0.979      -0.002       0.002\n",
       " ==============================================================================\n",
       " Omnibus:                        0.067   Durbin-Watson:                   2.192\n",
       " Prob(Omnibus):                  0.967   Jarque-Bera (JB):                0.054\n",
       " Skew:                          -0.046   Prob(JB):                        0.973\n",
       " Kurtosis:                       2.932   Cond. No.                     8.87e+03\n",
       " ==============================================================================\n",
       " \n",
       " Notes:\n",
       " [1] Standard Errors assume that the covariance matrix of the errors is correctly specified.\n",
       " [2] The condition number is large, 8.87e+03. This might indicate that there are\n",
       " strong multicollinearity or other numerical problems.\n",
       " \"\"\",\n",
       " <class 'statsmodels.iolib.summary.Summary'>\n",
       " \"\"\"\n",
       "                             OLS Regression Results                            \n",
       " ==============================================================================\n",
       " Dep. Variable:                 value2   R-squared:                       0.582\n",
       " Model:                            OLS   Adj. R-squared:                  0.560\n",
       " Method:                 Least Squares   F-statistic:                     26.19\n",
       " Date:                Sun, 15 Jun 2025   Prob (F-statistic):           1.76e-16\n",
       " Time:                        17:38:48   Log-Likelihood:                -142.08\n",
       " No. Observations:                 100   AIC:                             296.2\n",
       " Df Residuals:                      94   BIC:                             311.8\n",
       " Df Model:                           5                                         \n",
       " Covariance Type:            nonrobust                                         \n",
       " =================================================================================\n",
       "                     coef    std err          t      P>|t|      [0.025      0.975]\n",
       " ---------------------------------------------------------------------------------\n",
       " Intercept         0.8747      0.457      1.916      0.058      -0.032       1.781\n",
       " time_centered    -0.0052      0.041     -0.127      0.900      -0.087       0.077\n",
       " post_event        1.3422      0.621      2.160      0.033       0.109       2.576\n",
       " interaction      -0.0108      0.057     -0.189      0.850      -0.125       0.103\n",
       " time_sq          -0.0003      0.001     -0.388      0.699      -0.002       0.001\n",
       " time_sq_post      0.0016      0.001      1.438      0.154      -0.001       0.004\n",
       " ==============================================================================\n",
       " Omnibus:                        8.003   Durbin-Watson:                   2.140\n",
       " Prob(Omnibus):                  0.018   Jarque-Bera (JB):                3.584\n",
       " Skew:                           0.182   Prob(JB):                        0.167\n",
       " Kurtosis:                       2.147   Cond. No.                     8.87e+03\n",
       " ==============================================================================\n",
       " \n",
       " Notes:\n",
       " [1] Standard Errors assume that the covariance matrix of the errors is correctly specified.\n",
       " [2] The condition number is large, 8.87e+03. This might indicate that there are\n",
       " strong multicollinearity or other numerical problems.\n",
       " \"\"\",\n",
       " <class 'statsmodels.iolib.summary.Summary'>\n",
       " \"\"\"\n",
       "                             OLS Regression Results                            \n",
       " ==============================================================================\n",
       " Dep. Variable:                 value3   R-squared:                       0.807\n",
       " Model:                            OLS   Adj. R-squared:                  0.797\n",
       " Method:                 Least Squares   F-statistic:                     78.82\n",
       " Date:                Sun, 15 Jun 2025   Prob (F-statistic):           4.38e-32\n",
       " Time:                        17:38:48   Log-Likelihood:                -134.48\n",
       " No. Observations:                 100   AIC:                             281.0\n",
       " Df Residuals:                      94   BIC:                             296.6\n",
       " Df Model:                           5                                         \n",
       " Covariance Type:            nonrobust                                         \n",
       " =================================================================================\n",
       "                     coef    std err          t      P>|t|      [0.025      0.975]\n",
       " ---------------------------------------------------------------------------------\n",
       " Intercept         0.6593      0.423      1.558      0.123      -0.181       1.499\n",
       " time_centered     0.0127      0.038      0.332      0.741      -0.063       0.089\n",
       " post_event        1.6755      0.576      2.910      0.005       0.532       2.819\n",
       " interaction       0.0616      0.053      1.160      0.249      -0.044       0.167\n",
       " time_sq        3.471e-05      0.001      0.048      0.962      -0.001       0.001\n",
       " time_sq_post     -0.0003      0.001     -0.286      0.776      -0.002       0.002\n",
       " ==============================================================================\n",
       " Omnibus:                        0.623   Durbin-Watson:                   2.447\n",
       " Prob(Omnibus):                  0.732   Jarque-Bera (JB):                0.244\n",
       " Skew:                          -0.065   Prob(JB):                        0.885\n",
       " Kurtosis:                       3.204   Cond. No.                     8.87e+03\n",
       " ==============================================================================\n",
       " \n",
       " Notes:\n",
       " [1] Standard Errors assume that the covariance matrix of the errors is correctly specified.\n",
       " [2] The condition number is large, 8.87e+03. This might indicate that there are\n",
       " strong multicollinearity or other numerical problems.\n",
       " \"\"\")"
      ]
     },
     "execution_count": 11,
     "metadata": {},
     "output_type": "execute_result"
    }
   ],
   "source": [
    "# Setting up features\n",
    "\n",
    "hw31 = pd.read_csv('homework_3.1.csv', index_col=0)\n",
    "hw31['time_centered'] = hw31['time'] - 50\n",
    "post_event = []\n",
    "for time in hw31['time']:\n",
    "    if time >= 50:\n",
    "        post_event.append(1)\n",
    "    else:\n",
    "        post_event.append(0)\n",
    "\n",
    "hw31['post_event'] = post_event\n",
    "hw31['interaction'] = hw31['time_centered'] * hw31['post_event']\n",
    "hw31['time_sq'] = hw31['time_centered'] ** 2\n",
    "hw31['time_sq_post'] = hw31['time_sq'] * hw31['post_event']\n",
    "\n",
    "# Fitting the model\n",
    "model1 = smf.ols('value1 ~ time_centered + post_event + interaction + time_sq + time_sq_post', data=hw31).fit()\n",
    "model2 = smf.ols('value2 ~ time_centered + post_event + interaction + time_sq + time_sq_post', data=hw31).fit()\n",
    "model3 = smf.ols('value3 ~ time_centered + post_event + interaction + time_sq + time_sq_post', data=hw31).fit()\n",
    "model1.summary(), model2.summary(), model3.summary()"
   ]
  },
  {
   "cell_type": "markdown",
   "id": "3c0682c9",
   "metadata": {},
   "source": [
    "<font color='seagreen'> A change in the second derivative can be tested by adding a quadratic term time^2. This can allow us to check whether the rate of change of the slope differs after the event. Thus, another interaction term would be added as well (time^2 x after_event). Finally, we can fit this new model and find the coefficient of the new interaction term to test for a change in the second derivative."
   ]
  },
  {
   "cell_type": "markdown",
   "id": "0ac617d7",
   "metadata": {},
   "source": [
    "2. Create your own scenario that illustrates differences-in-differences. Describe the story behind the data and show whether there is a nonzero treatment effect."
   ]
  },
  {
   "cell_type": "markdown",
   "id": "e5aed9d4",
   "metadata": {},
   "source": [
    "<font color='seagreen'> Given two neighboring states (State A and State B) that are similar in terms of economy and labor markets, neither state has a minimum wage law in year 1. However, in year 2, State A implements a $17 minimum wage but State B has no change. We want to see if the minimum wage increase in State A had an impact on average employment at fast-foot restaurants."
   ]
  },
  {
   "cell_type": "code",
   "execution_count": 12,
   "id": "6114afba",
   "metadata": {},
   "outputs": [
    {
     "data": {
      "text/html": [
       "<table class=\"simpletable\">\n",
       "<caption>OLS Regression Results</caption>\n",
       "<tr>\n",
       "  <th>Dep. Variable:</th>       <td>employment</td>    <th>  R-squared:         </th> <td>   0.423</td>\n",
       "</tr>\n",
       "<tr>\n",
       "  <th>Model:</th>                   <td>OLS</td>       <th>  Adj. R-squared:    </th> <td>   0.405</td>\n",
       "</tr>\n",
       "<tr>\n",
       "  <th>Method:</th>             <td>Least Squares</td>  <th>  F-statistic:       </th> <td>   23.42</td>\n",
       "</tr>\n",
       "<tr>\n",
       "  <th>Date:</th>             <td>Sun, 15 Jun 2025</td> <th>  Prob (F-statistic):</th> <td>1.84e-11</td>\n",
       "</tr>\n",
       "<tr>\n",
       "  <th>Time:</th>                 <td>17:38:48</td>     <th>  Log-Likelihood:    </th> <td> -130.48</td>\n",
       "</tr>\n",
       "<tr>\n",
       "  <th>No. Observations:</th>      <td>   100</td>      <th>  AIC:               </th> <td>   269.0</td>\n",
       "</tr>\n",
       "<tr>\n",
       "  <th>Df Residuals:</th>          <td>    96</td>      <th>  BIC:               </th> <td>   279.4</td>\n",
       "</tr>\n",
       "<tr>\n",
       "  <th>Df Model:</th>              <td>     3</td>      <th>                     </th>     <td> </td>   \n",
       "</tr>\n",
       "<tr>\n",
       "  <th>Covariance Type:</th>      <td>nonrobust</td>    <th>                     </th>     <td> </td>   \n",
       "</tr>\n",
       "</table>\n",
       "<table class=\"simpletable\">\n",
       "<tr>\n",
       "      <td></td>         <th>coef</th>     <th>std err</th>      <th>t</th>      <th>P>|t|</th>  <th>[0.025</th>    <th>0.975]</th>  \n",
       "</tr>\n",
       "<tr>\n",
       "  <th>Intercept</th> <td>   24.1061</td> <td>    0.182</td> <td>  132.373</td> <td> 0.000</td> <td>   23.745</td> <td>   24.468</td>\n",
       "</tr>\n",
       "<tr>\n",
       "  <th>treated</th>   <td>    0.7304</td> <td>    0.258</td> <td>    2.836</td> <td> 0.006</td> <td>    0.219</td> <td>    1.242</td>\n",
       "</tr>\n",
       "<tr>\n",
       "  <th>post</th>      <td>   -0.1766</td> <td>    0.258</td> <td>   -0.686</td> <td> 0.494</td> <td>   -0.688</td> <td>    0.335</td>\n",
       "</tr>\n",
       "<tr>\n",
       "  <th>did</th>       <td>   -1.9473</td> <td>    0.364</td> <td>   -5.347</td> <td> 0.000</td> <td>   -2.670</td> <td>   -1.224</td>\n",
       "</tr>\n",
       "</table>\n",
       "<table class=\"simpletable\">\n",
       "<tr>\n",
       "  <th>Omnibus:</th>       <td> 0.931</td> <th>  Durbin-Watson:     </th> <td>   2.090</td>\n",
       "</tr>\n",
       "<tr>\n",
       "  <th>Prob(Omnibus):</th> <td> 0.628</td> <th>  Jarque-Bera (JB):  </th> <td>   0.654</td>\n",
       "</tr>\n",
       "<tr>\n",
       "  <th>Skew:</th>          <td>-0.195</td> <th>  Prob(JB):          </th> <td>   0.721</td>\n",
       "</tr>\n",
       "<tr>\n",
       "  <th>Kurtosis:</th>      <td> 3.071</td> <th>  Cond. No.          </th> <td>    6.85</td>\n",
       "</tr>\n",
       "</table><br/><br/>Notes:<br/>[1] Standard Errors assume that the covariance matrix of the errors is correctly specified."
      ],
      "text/latex": [
       "\\begin{center}\n",
       "\\begin{tabular}{lclc}\n",
       "\\toprule\n",
       "\\textbf{Dep. Variable:}    &    employment    & \\textbf{  R-squared:         } &     0.423   \\\\\n",
       "\\textbf{Model:}            &       OLS        & \\textbf{  Adj. R-squared:    } &     0.405   \\\\\n",
       "\\textbf{Method:}           &  Least Squares   & \\textbf{  F-statistic:       } &     23.42   \\\\\n",
       "\\textbf{Date:}             & Sun, 15 Jun 2025 & \\textbf{  Prob (F-statistic):} &  1.84e-11   \\\\\n",
       "\\textbf{Time:}             &     17:38:48     & \\textbf{  Log-Likelihood:    } &   -130.48   \\\\\n",
       "\\textbf{No. Observations:} &         100      & \\textbf{  AIC:               } &     269.0   \\\\\n",
       "\\textbf{Df Residuals:}     &          96      & \\textbf{  BIC:               } &     279.4   \\\\\n",
       "\\textbf{Df Model:}         &           3      & \\textbf{                     } &             \\\\\n",
       "\\textbf{Covariance Type:}  &    nonrobust     & \\textbf{                     } &             \\\\\n",
       "\\bottomrule\n",
       "\\end{tabular}\n",
       "\\begin{tabular}{lcccccc}\n",
       "                   & \\textbf{coef} & \\textbf{std err} & \\textbf{t} & \\textbf{P$> |$t$|$} & \\textbf{[0.025} & \\textbf{0.975]}  \\\\\n",
       "\\midrule\n",
       "\\textbf{Intercept} &      24.1061  &        0.182     &   132.373  &         0.000        &       23.745    &       24.468     \\\\\n",
       "\\textbf{treated}   &       0.7304  &        0.258     &     2.836  &         0.006        &        0.219    &        1.242     \\\\\n",
       "\\textbf{post}      &      -0.1766  &        0.258     &    -0.686  &         0.494        &       -0.688    &        0.335     \\\\\n",
       "\\textbf{did}       &      -1.9473  &        0.364     &    -5.347  &         0.000        &       -2.670    &       -1.224     \\\\\n",
       "\\bottomrule\n",
       "\\end{tabular}\n",
       "\\begin{tabular}{lclc}\n",
       "\\textbf{Omnibus:}       &  0.931 & \\textbf{  Durbin-Watson:     } &    2.090  \\\\\n",
       "\\textbf{Prob(Omnibus):} &  0.628 & \\textbf{  Jarque-Bera (JB):  } &    0.654  \\\\\n",
       "\\textbf{Skew:}          & -0.195 & \\textbf{  Prob(JB):          } &    0.721  \\\\\n",
       "\\textbf{Kurtosis:}      &  3.071 & \\textbf{  Cond. No.          } &     6.85  \\\\\n",
       "\\bottomrule\n",
       "\\end{tabular}\n",
       "%\\caption{OLS Regression Results}\n",
       "\\end{center}\n",
       "\n",
       "Notes: \\newline\n",
       " [1] Standard Errors assume that the covariance matrix of the errors is correctly specified."
      ],
      "text/plain": [
       "<class 'statsmodels.iolib.summary.Summary'>\n",
       "\"\"\"\n",
       "                            OLS Regression Results                            \n",
       "==============================================================================\n",
       "Dep. Variable:             employment   R-squared:                       0.423\n",
       "Model:                            OLS   Adj. R-squared:                  0.405\n",
       "Method:                 Least Squares   F-statistic:                     23.42\n",
       "Date:                Sun, 15 Jun 2025   Prob (F-statistic):           1.84e-11\n",
       "Time:                        17:38:48   Log-Likelihood:                -130.48\n",
       "No. Observations:                 100   AIC:                             269.0\n",
       "Df Residuals:                      96   BIC:                             279.4\n",
       "Df Model:                           3                                         \n",
       "Covariance Type:            nonrobust                                         \n",
       "==============================================================================\n",
       "                 coef    std err          t      P>|t|      [0.025      0.975]\n",
       "------------------------------------------------------------------------------\n",
       "Intercept     24.1061      0.182    132.373      0.000      23.745      24.468\n",
       "treated        0.7304      0.258      2.836      0.006       0.219       1.242\n",
       "post          -0.1766      0.258     -0.686      0.494      -0.688       0.335\n",
       "did           -1.9473      0.364     -5.347      0.000      -2.670      -1.224\n",
       "==============================================================================\n",
       "Omnibus:                        0.931   Durbin-Watson:                   2.090\n",
       "Prob(Omnibus):                  0.628   Jarque-Bera (JB):                0.654\n",
       "Skew:                          -0.195   Prob(JB):                        0.721\n",
       "Kurtosis:                       3.071   Cond. No.                         6.85\n",
       "==============================================================================\n",
       "\n",
       "Notes:\n",
       "[1] Standard Errors assume that the covariance matrix of the errors is correctly specified.\n",
       "\"\"\""
      ]
     },
     "execution_count": 12,
     "metadata": {},
     "output_type": "execute_result"
    }
   ],
   "source": [
    "np.random.seed(42)\n",
    "\n",
    "n = 25\n",
    "rows = []\n",
    "\n",
    "for state in ['A', 'B']:\n",
    "    for year in [1, 2]:\n",
    "        for i in range(n):\n",
    "            if state == 'A' and year == 1:\n",
    "                employment = 25 + np.random.normal(0, 1)\n",
    "            elif state == 'A' and year == 2:\n",
    "                employment = 23 + np.random.normal(0, 1)\n",
    "            elif state == 'B' and year == 1:\n",
    "                employment = 24 + np.random.normal(0, 1)\n",
    "            else: \n",
    "                employment = 24 + np.random.normal(0, 1)\n",
    "            rows.append({\n",
    "                'state': state,\n",
    "                'year': year,\n",
    "                'employment': employment\n",
    "            })\n",
    "            \n",
    "data = pd.DataFrame(rows)\n",
    "\n",
    "data['post'] = (data['year'] == 2).astype(int)\n",
    "data['treated'] = (data['state'] == 'A').astype(int)\n",
    "data['did'] = data['post'] * data['treated']\n",
    "\n",
    "model = smf.ols('employment ~ treated + post + did', data=data).fit()\n",
    "model.summary()"
   ]
  },
  {
   "cell_type": "markdown",
   "id": "ec5d0a68",
   "metadata": {},
   "source": [
    "<font color='seagreen'> Based on the summary table above, the coefficient for 'did' is -1.95 with a p-value of less than 0.001. This shows that the minimum wage caused ~2 fewer employees on average, which is a significant nonzero treatment effect."
   ]
  },
  {
   "cell_type": "markdown",
   "id": "55257fdd",
   "metadata": {},
   "source": [
    "### Homework reflection 4\n",
    "\n",
    "1. The Coding Quiz gives two options for instrumental variables. For the second time (dividing the range of W into multiple ranges), explain how you did it, show your code, and discuss any issues you encountered."
   ]
  },
  {
   "cell_type": "code",
   "execution_count": 13,
   "id": "eb0b150b",
   "metadata": {},
   "outputs": [
    {
     "name": "stdout",
     "output_type": "stream",
     "text": [
      "-3.3034061894656137\n",
      "4.783256692238601\n",
      "1.7222083220048707\n"
     ]
    }
   ],
   "source": [
    "hw_41 = pd.read_csv('homework_4.1.csv', index_col=0)\n",
    "print(hw_41.W.min())\n",
    "print(hw_41.W.max())\n",
    "hw_41_bin = hw_41[(hw_41.W > 2.5) & (hw_41.W < 4.5)].copy()\n",
    "Y_diff = hw_41_bin[hw_41_bin.Z == 1].Y.mean() - hw_41_bin[hw_41_bin.Z == 0].Y.mean()\n",
    "X_diff = hw_41_bin[hw_41_bin.Z == 1].X.mean() - hw_41_bin[hw_41_bin.Z == 0].X.mean()\n",
    "effect_2 = Y_diff / X_diff\n",
    "print(effect_2)"
   ]
  },
  {
   "cell_type": "markdown",
   "id": "45288073",
   "metadata": {},
   "source": [
    "<font color='seagreen'> This was done by creating 'bins' for the W values. I first checked the range for W to see that the values range from -3.30 to 4.78. Then I arbitrarily chose a range 2.5 - 4.5 and created a subset of the original dataset that contained values only when W is between 2.5 and 4.5. Then, I calculated the effect using the average Y difference over average X difference. Other bins can be tested by just adjusting for the range of W values. In doing so, the effect remains around 1.5, which could have been found without using W at all, as seen in the first step of the Coding Quiz problem. During this process, I did not encounter any issues."
   ]
  },
  {
   "cell_type": "markdown",
   "id": "1eb6ba57",
   "metadata": {},
   "source": [
    "2. Plot the college outcome (Y) vs. the test score (X) in a small range of test scores around 80. On the plot, compare it with the Y probability predicted by logistic regression. The ground truth Y value is 0 or 1; don't just plot 0 or 1 - that will make it unreadable. Find some way to make it look better than that."
   ]
  },
  {
   "cell_type": "code",
   "execution_count": 14,
   "id": "29c12907",
   "metadata": {},
   "outputs": [],
   "source": [
    "hw_42a = pd.read_csv('homework_4.2.a.csv', index_col=0)\n",
    "hw_42b = pd.read_csv('homework_4.2.b.csv', index_col=0)\n"
   ]
  },
  {
   "cell_type": "code",
   "execution_count": 17,
   "id": "5937e2a2",
   "metadata": {},
   "outputs": [
    {
     "data": {
      "image/png": "[encoded data removed]",
      "text/plain": [
       "<Figure size 800x600 with 1 Axes>"
      ]
     },
     "metadata": {},
     "output_type": "display_data"
    },
    {
     "data": {
      "image/png": "[encoded data removed]",
      "text/plain": [
       "<Figure size 800x600 with 1 Axes>"
      ]
     },
     "metadata": {},
     "output_type": "display_data"
    }
   ],
   "source": [
    "def plot_rdd_logistic(df, score, outcome, label):\n",
    "    df_lim = df[(df[score] >= 70) & (df[score] <= 90)]\n",
    "    \n",
    "    X = sm.add_constant(df_lim[score])\n",
    "    model = sm.Logit(df_lim[outcome], X).fit(disp=False)\n",
    "    \n",
    "    score_grid = np.linspace(70, 90, 200)\n",
    "    X_pred = sm.add_constant(score_grid)\n",
    "    y_pred = model.predict(X_pred)\n",
    "    \n",
    "    plt.figure(figsize=(8, 6))\n",
    "    plt.scatter(df_lim[score], df_lim[outcome], alpha=0.1, label='Outcomes', color='orange')\n",
    "    \n",
    "    bins = np.linspace(70, 90, 20)\n",
    "    bin_centers = (bins[:-1] + bins[1:]) / 2\n",
    "    bin_means = [df_lim[(df_lim[score] >= bins[i]) & (df_lim[score] < bins[i+1])][outcome].mean() for i in range(len(bins)-1)]\n",
    "    plt.plot(bin_centers, bin_means, 'o', color='red', label='Binned average Y')\n",
    "    \n",
    "    plt.plot(score_grid, y_pred, label='Logistic regression fit', linewidth=2, color='green')\n",
    "    \n",
    "    plt.xlabel('Test Score')\n",
    "    plt.ylabel('College Admission Outcome')\n",
    "    plt.title(f'College Admission Outcome vs Test Score (Dataset {label})')\n",
    "    plt.legend()\n",
    "    plt.grid(True)\n",
    "    plt.show()\n",
    "\n",
    "plot_rdd_logistic(hw_42a, 'X', 'Y', 'A')\n",
    "plot_rdd_logistic(hw_42b, 'X2', 'Y2', 'B')"
   ]
  },
  {
   "cell_type": "code",
   "execution_count": null,
   "id": "b221fe6c",
   "metadata": {},
   "outputs": [],
   "source": []
  }
 ],
 "metadata": {
  "kernelspec": {
   "display_name": "Python 3",
   "language": "python",
   "name": "python3"
  },
  "language_info": {
   "codemirror_mode": {
    "name": "ipython",
    "version": 3
   },
   "file_extension": ".py",
   "mimetype": "text/x-python",
   "name": "python",
   "nbconvert_exporter": "python",
   "pygments_lexer": "ipython3",
   "version": "3.11.9"
  }
 },
 "nbformat": 4,
 "nbformat_minor": 5
}
